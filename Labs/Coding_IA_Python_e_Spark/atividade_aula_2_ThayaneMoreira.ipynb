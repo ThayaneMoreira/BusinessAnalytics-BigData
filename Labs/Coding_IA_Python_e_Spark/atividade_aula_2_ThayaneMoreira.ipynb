{
 "cells": [
  {
   "cell_type": "markdown",
   "id": "0a43ea6f",
   "metadata": {},
   "source": [
    "# Atividade"
   ]
  },
  {
   "cell_type": "markdown",
   "id": "e3fa86c9",
   "metadata": {},
   "source": [
    "## Carregando os dados"
   ]
  },
  {
   "cell_type": "code",
   "execution_count": 2,
   "id": "4cf8eafa",
   "metadata": {},
   "outputs": [],
   "source": [
    "import requests\n",
    "import pandas as pd\n",
    "import matplotlib.pyplot as plt\n",
    "\n",
    "\n",
    "url = \"https://dados-lab-python.s3.amazonaws.com/carro_atividade1.csv\"\n",
    "r = requests.get(url, stream=True)\n",
    "\n",
    "df_carros = pd.read_csv(url,',',names=['preço_compra','preço_manutenção','portas','pessoas','porta-malas','segurança','classe'])"
   ]
  },
  {
   "cell_type": "markdown",
   "id": "6051506c",
   "metadata": {},
   "source": [
    "## 1. Mostre o DataFrame::"
   ]
  },
  {
   "cell_type": "code",
   "execution_count": 3,
   "id": "dfed3178",
   "metadata": {},
   "outputs": [
    {
     "data": {
      "text/html": [
       "<div>\n",
       "<style scoped>\n",
       "    .dataframe tbody tr th:only-of-type {\n",
       "        vertical-align: middle;\n",
       "    }\n",
       "\n",
       "    .dataframe tbody tr th {\n",
       "        vertical-align: top;\n",
       "    }\n",
       "\n",
       "    .dataframe thead th {\n",
       "        text-align: right;\n",
       "    }\n",
       "</style>\n",
       "<table border=\"1\" class=\"dataframe\">\n",
       "  <thead>\n",
       "    <tr style=\"text-align: right;\">\n",
       "      <th></th>\n",
       "      <th>preço_compra</th>\n",
       "      <th>preço_manutenção</th>\n",
       "      <th>portas</th>\n",
       "      <th>pessoas</th>\n",
       "      <th>porta-malas</th>\n",
       "      <th>segurança</th>\n",
       "      <th>classe</th>\n",
       "    </tr>\n",
       "  </thead>\n",
       "  <tbody>\n",
       "    <tr>\n",
       "      <th>0</th>\n",
       "      <td>m_alta</td>\n",
       "      <td>med</td>\n",
       "      <td>2</td>\n",
       "      <td>4</td>\n",
       "      <td>pequeno</td>\n",
       "      <td>alta</td>\n",
       "      <td>aceito</td>\n",
       "    </tr>\n",
       "    <tr>\n",
       "      <th>1</th>\n",
       "      <td>m_alta</td>\n",
       "      <td>med</td>\n",
       "      <td>2</td>\n",
       "      <td>4</td>\n",
       "      <td>med</td>\n",
       "      <td>alta</td>\n",
       "      <td>aceito</td>\n",
       "    </tr>\n",
       "    <tr>\n",
       "      <th>2</th>\n",
       "      <td>m_alta</td>\n",
       "      <td>med</td>\n",
       "      <td>2</td>\n",
       "      <td>4</td>\n",
       "      <td>grande</td>\n",
       "      <td>med</td>\n",
       "      <td>aceito</td>\n",
       "    </tr>\n",
       "  </tbody>\n",
       "</table>\n",
       "</div>"
      ],
      "text/plain": [
       "  preço_compra preço_manutenção  portas pessoas porta-malas segurança  classe\n",
       "0       m_alta              med       2       4     pequeno      alta  aceito\n",
       "1       m_alta              med       2       4         med      alta  aceito\n",
       "2       m_alta              med       2       4      grande       med  aceito"
      ]
     },
     "execution_count": 3,
     "metadata": {},
     "output_type": "execute_result"
    }
   ],
   "source": [
    "# Escreva seu código aqui\n",
    "df_carros.head(3)"
   ]
  },
  {
   "cell_type": "markdown",
   "id": "e1758ea6",
   "metadata": {},
   "source": [
    "## 2. Quais tipos de dados nós temos?"
   ]
  },
  {
   "cell_type": "code",
   "execution_count": 4,
   "id": "1494bff7",
   "metadata": {},
   "outputs": [
    {
     "data": {
      "text/plain": [
       "preço_compra        object\n",
       "preço_manutenção    object\n",
       "portas               int64\n",
       "pessoas             object\n",
       "porta-malas         object\n",
       "segurança           object\n",
       "classe              object\n",
       "dtype: object"
      ]
     },
     "execution_count": 4,
     "metadata": {},
     "output_type": "execute_result"
    }
   ],
   "source": [
    "# Escreva seu código aqui\n",
    "df_carros.dtypes"
   ]
  },
  {
   "cell_type": "markdown",
   "id": "7f0c6e7c",
   "metadata": {},
   "source": [
    "## 3. Do ponto de vista estatístico, como se comporta o atributo 'portas' (maior valor, menor valor etc.)?  "
   ]
  },
  {
   "cell_type": "code",
   "execution_count": 5,
   "id": "3008f89d",
   "metadata": {},
   "outputs": [
    {
     "name": "stdout",
     "output_type": "stream",
     "text": [
      "Maior valor:  7 \n",
      "Menor valor:  2\n"
     ]
    }
   ],
   "source": [
    "# Escreva seu código aqui\n",
    "maior = df_carros['portas'].max()\n",
    "menor = df_carros['portas'].min()\n",
    "\n",
    "print('Maior valor: ',maior,'\\nMenor valor: ', menor)"
   ]
  },
  {
   "cell_type": "markdown",
   "id": "d4f5c23e",
   "metadata": {},
   "source": [
    "## 4. Quantos valores diferentes encontramos no atributo ‘porta_malas’?"
   ]
  },
  {
   "cell_type": "code",
   "execution_count": 6,
   "id": "7f34547b",
   "metadata": {},
   "outputs": [
    {
     "data": {
      "text/plain": [
       "array(['pequeno', 'med', 'grande'], dtype=object)"
      ]
     },
     "execution_count": 6,
     "metadata": {},
     "output_type": "execute_result"
    }
   ],
   "source": [
    "# Escreva seu código aqui\n",
    "df_carros['porta-malas'].unique()"
   ]
  },
  {
   "cell_type": "markdown",
   "id": "c24a161f",
   "metadata": {},
   "source": [
    "\n",
    "Considerando que para treinarmos uma rede neural (criarmos um modelo) para prever se um dado modelo de veículo terá uma boa aceitação no mercado, os dados devem estar rotulados como: 'aceito' e 'n_aceito'. \n",
    "\n",
    "## 5. Os dados atuais atendem esse requisito?"
   ]
  },
  {
   "cell_type": "code",
   "execution_count": 13,
   "id": "81f73030",
   "metadata": {},
   "outputs": [
    {
     "data": {
      "text/plain": [
       "array(['aceito', 'bom', 'm_bom', 'n_aceito'], dtype=object)"
      ]
     },
     "execution_count": 13,
     "metadata": {},
     "output_type": "execute_result"
    }
   ],
   "source": [
    "# Escreva seu código aqui\n",
    "df_carros['classe'].unique()"
   ]
  },
  {
   "cell_type": "markdown",
   "id": "8b17ccf8",
   "metadata": {},
   "source": [
    "## 6. Modificando o conjunto de dados\n",
    "\n",
    "Começando com o componente (feature) porta-malas, você pode usar value_counts para descobrir os valores."
   ]
  },
  {
   "cell_type": "code",
   "execution_count": 14,
   "id": "c2af401e",
   "metadata": {},
   "outputs": [
    {
     "data": {
      "text/plain": [
       "pequeno    576\n",
       "grande     576\n",
       "med        576\n",
       "Name: porta-malas, dtype: int64"
      ]
     },
     "execution_count": 14,
     "metadata": {},
     "output_type": "execute_result"
    }
   ],
   "source": [
    "df_carros['porta-malas'].value_counts()"
   ]
  },
  {
   "cell_type": "markdown",
   "id": "cc94d953",
   "metadata": {},
   "source": [
    "Como não podemos utilizar valores não núméricos em gráficos, vamos modificar esse valores da seguinte forma:\n",
    "- pequeno será modificado para 1\n",
    "- med será modificado para 2\n",
    "- grande será modificado para 3\n",
    "\n",
    "Primeiro vamos criar um discionário com esses dados:"
   ]
  },
  {
   "cell_type": "code",
   "execution_count": 15,
   "id": "d4873248",
   "metadata": {},
   "outputs": [
    {
     "name": "stdout",
     "output_type": "stream",
     "text": [
      "{'pequeno': 1, 'med': 2, 'grande': 3}\n"
     ]
    }
   ],
   "source": [
    "tamanho_valor = {'pequeno': 1, 'med': 2,'grande':3 }\n",
    "print(tamanho_valor)"
   ]
  },
  {
   "cell_type": "markdown",
   "id": "3df06993",
   "metadata": {},
   "source": [
    "Em seguida, podemos usar o método replace do pandas para gerar uma nova coluna numérica com base na coluna porta-malas."
   ]
  },
  {
   "cell_type": "code",
   "execution_count": 16,
   "id": "f708efd0",
   "metadata": {},
   "outputs": [
    {
     "data": {
      "text/html": [
       "<div>\n",
       "<style scoped>\n",
       "    .dataframe tbody tr th:only-of-type {\n",
       "        vertical-align: middle;\n",
       "    }\n",
       "\n",
       "    .dataframe tbody tr th {\n",
       "        vertical-align: top;\n",
       "    }\n",
       "\n",
       "    .dataframe thead th {\n",
       "        text-align: right;\n",
       "    }\n",
       "</style>\n",
       "<table border=\"1\" class=\"dataframe\">\n",
       "  <thead>\n",
       "    <tr style=\"text-align: right;\">\n",
       "      <th></th>\n",
       "      <th>preço_compra</th>\n",
       "      <th>preço_manutenção</th>\n",
       "      <th>portas</th>\n",
       "      <th>pessoas</th>\n",
       "      <th>porta-malas</th>\n",
       "      <th>segurança</th>\n",
       "      <th>classe</th>\n",
       "      <th>tamanho-porta-malas</th>\n",
       "    </tr>\n",
       "  </thead>\n",
       "  <tbody>\n",
       "    <tr>\n",
       "      <th>0</th>\n",
       "      <td>m_alta</td>\n",
       "      <td>med</td>\n",
       "      <td>2</td>\n",
       "      <td>4</td>\n",
       "      <td>pequeno</td>\n",
       "      <td>alta</td>\n",
       "      <td>aceito</td>\n",
       "      <td>1</td>\n",
       "    </tr>\n",
       "    <tr>\n",
       "      <th>1</th>\n",
       "      <td>m_alta</td>\n",
       "      <td>med</td>\n",
       "      <td>2</td>\n",
       "      <td>4</td>\n",
       "      <td>med</td>\n",
       "      <td>alta</td>\n",
       "      <td>aceito</td>\n",
       "      <td>2</td>\n",
       "    </tr>\n",
       "    <tr>\n",
       "      <th>2</th>\n",
       "      <td>m_alta</td>\n",
       "      <td>med</td>\n",
       "      <td>2</td>\n",
       "      <td>4</td>\n",
       "      <td>grande</td>\n",
       "      <td>med</td>\n",
       "      <td>aceito</td>\n",
       "      <td>3</td>\n",
       "    </tr>\n",
       "    <tr>\n",
       "      <th>3</th>\n",
       "      <td>m_alta</td>\n",
       "      <td>med</td>\n",
       "      <td>2</td>\n",
       "      <td>4</td>\n",
       "      <td>grande</td>\n",
       "      <td>alta</td>\n",
       "      <td>aceito</td>\n",
       "      <td>3</td>\n",
       "    </tr>\n",
       "    <tr>\n",
       "      <th>4</th>\n",
       "      <td>m_alta</td>\n",
       "      <td>med</td>\n",
       "      <td>2</td>\n",
       "      <td>more</td>\n",
       "      <td>med</td>\n",
       "      <td>alta</td>\n",
       "      <td>aceito</td>\n",
       "      <td>2</td>\n",
       "    </tr>\n",
       "    <tr>\n",
       "      <th>...</th>\n",
       "      <td>...</td>\n",
       "      <td>...</td>\n",
       "      <td>...</td>\n",
       "      <td>...</td>\n",
       "      <td>...</td>\n",
       "      <td>...</td>\n",
       "      <td>...</td>\n",
       "      <td>...</td>\n",
       "    </tr>\n",
       "    <tr>\n",
       "      <th>1723</th>\n",
       "      <td>baixa</td>\n",
       "      <td>baixa</td>\n",
       "      <td>7</td>\n",
       "      <td>4</td>\n",
       "      <td>med</td>\n",
       "      <td>baixa</td>\n",
       "      <td>n_aceito</td>\n",
       "      <td>2</td>\n",
       "    </tr>\n",
       "    <tr>\n",
       "      <th>1724</th>\n",
       "      <td>baixa</td>\n",
       "      <td>baixa</td>\n",
       "      <td>5</td>\n",
       "      <td>4</td>\n",
       "      <td>grande</td>\n",
       "      <td>baixa</td>\n",
       "      <td>n_aceito</td>\n",
       "      <td>3</td>\n",
       "    </tr>\n",
       "    <tr>\n",
       "      <th>1725</th>\n",
       "      <td>baixa</td>\n",
       "      <td>baixa</td>\n",
       "      <td>5</td>\n",
       "      <td>more</td>\n",
       "      <td>pequeno</td>\n",
       "      <td>baixa</td>\n",
       "      <td>n_aceito</td>\n",
       "      <td>1</td>\n",
       "    </tr>\n",
       "    <tr>\n",
       "      <th>1726</th>\n",
       "      <td>baixa</td>\n",
       "      <td>baixa</td>\n",
       "      <td>5</td>\n",
       "      <td>more</td>\n",
       "      <td>med</td>\n",
       "      <td>baixa</td>\n",
       "      <td>n_aceito</td>\n",
       "      <td>2</td>\n",
       "    </tr>\n",
       "    <tr>\n",
       "      <th>1727</th>\n",
       "      <td>baixa</td>\n",
       "      <td>baixa</td>\n",
       "      <td>5</td>\n",
       "      <td>more</td>\n",
       "      <td>grande</td>\n",
       "      <td>baixa</td>\n",
       "      <td>n_aceito</td>\n",
       "      <td>3</td>\n",
       "    </tr>\n",
       "  </tbody>\n",
       "</table>\n",
       "<p>1728 rows × 8 columns</p>\n",
       "</div>"
      ],
      "text/plain": [
       "     preço_compra preço_manutenção  portas pessoas porta-malas segurança  \\\n",
       "0          m_alta              med       2       4     pequeno      alta   \n",
       "1          m_alta              med       2       4         med      alta   \n",
       "2          m_alta              med       2       4      grande       med   \n",
       "3          m_alta              med       2       4      grande      alta   \n",
       "4          m_alta              med       2    more         med      alta   \n",
       "...           ...              ...     ...     ...         ...       ...   \n",
       "1723        baixa            baixa       7       4         med     baixa   \n",
       "1724        baixa            baixa       5       4      grande     baixa   \n",
       "1725        baixa            baixa       5    more     pequeno     baixa   \n",
       "1726        baixa            baixa       5    more         med     baixa   \n",
       "1727        baixa            baixa       5    more      grande     baixa   \n",
       "\n",
       "        classe  tamanho-porta-malas  \n",
       "0       aceito                    1  \n",
       "1       aceito                    2  \n",
       "2       aceito                    3  \n",
       "3       aceito                    3  \n",
       "4       aceito                    2  \n",
       "...        ...                  ...  \n",
       "1723  n_aceito                    2  \n",
       "1724  n_aceito                    3  \n",
       "1725  n_aceito                    1  \n",
       "1726  n_aceito                    2  \n",
       "1727  n_aceito                    3  \n",
       "\n",
       "[1728 rows x 8 columns]"
      ]
     },
     "execution_count": 16,
     "metadata": {},
     "output_type": "execute_result"
    }
   ],
   "source": [
    "df_carros['tamanho-porta-malas'] = df_carros['porta-malas'].replace(tamanho_valor)\n",
    "df_carros"
   ]
  },
  {
   "cell_type": "markdown",
   "id": "f751985f",
   "metadata": {},
   "source": [
    "Crie um histograma com os novos valores:"
   ]
  },
  {
   "cell_type": "code",
   "execution_count": 19,
   "id": "8dddd43d",
   "metadata": {},
   "outputs": [
    {
     "data": {
      "text/plain": [
       "<AxesSubplot:ylabel='Frequency'>"
      ]
     },
     "execution_count": 19,
     "metadata": {},
     "output_type": "execute_result"
    },
    {
     "data": {
      "image/png": "[encoded data removed]",
      "text/plain": [
       "<Figure size 432x288 with 1 Axes>"
      ]
     },
     "metadata": {
      "needs_background": "light"
     },
     "output_type": "display_data"
    }
   ],
   "source": [
    "# Escreva seu código aqui\n",
    "#df_carros['tamanho-porta-malas'].value_counts()\n",
    "\n",
    "df_carros['tamanho-porta-malas'].plot.hist()"
   ]
  },
  {
   "cell_type": "markdown",
   "id": "82bcd1ea",
   "metadata": {},
   "source": [
    "## 7. Existe alguma discrepância no atributo portas?\n",
    "\n",
    "Dica: use um gráfico de caixa."
   ]
  },
  {
   "cell_type": "code",
   "execution_count": 20,
   "id": "fbfe4733",
   "metadata": {},
   "outputs": [
    {
     "data": {
      "image/png": "[encoded data removed]",
      "text/plain": [
       "<Figure size 432x288 with 1 Axes>"
      ]
     },
     "metadata": {
      "needs_background": "light"
     },
     "output_type": "display_data"
    }
   ],
   "source": [
    "# Escreva seu código aqui\n",
    "\n",
    "plt.boxplot(df_carros['portas'])\n",
    "plt.show()"
   ]
  },
  {
   "cell_type": "markdown",
   "id": "e6417458",
   "metadata": {},
   "source": [
    "## 8. Analisando o alvo (target)\n",
    "\n",
    "Que informações você consegue obter analisando o target?"
   ]
  },
  {
   "cell_type": "code",
   "execution_count": 21,
   "id": "34b8bd8a",
   "metadata": {},
   "outputs": [
    {
     "data": {
      "text/plain": [
       "count         1728\n",
       "unique           4\n",
       "top       n_aceito\n",
       "freq          1210\n",
       "Name: classe, dtype: object"
      ]
     },
     "execution_count": 21,
     "metadata": {},
     "output_type": "execute_result"
    }
   ],
   "source": [
    "# Escreva seu código aqui\n",
    "df_carros['classe'].describe()"
   ]
  },
  {
   "cell_type": "code",
   "execution_count": 22,
   "id": "99f9fd6e-7c5b-420a-8ffb-d54ed9f3f745",
   "metadata": {},
   "outputs": [
    {
     "data": {
      "text/plain": [
       "n_aceito    1210\n",
       "aceito       384\n",
       "bom           69\n",
       "m_bom         65\n",
       "Name: classe, dtype: int64"
      ]
     },
     "execution_count": 22,
     "metadata": {},
     "output_type": "execute_result"
    }
   ],
   "source": [
    "df_carros['classe'].value_counts()"
   ]
  },
  {
   "cell_type": "code",
   "execution_count": null,
   "id": "a38e5664-56c6-4d39-a358-26825eccd045",
   "metadata": {},
   "outputs": [],
   "source": []
  }
 ],
 "metadata": {
  "kernelspec": {
   "display_name": "Python 3",
   "language": "python",
   "name": "python3"
  },
  "language_info": {
   "codemirror_mode": {
    "name": "ipython",
    "version": 3
   },
   "file_extension": ".py",
   "mimetype": "text/x-python",
   "name": "python",
   "nbconvert_exporter": "python",
   "pygments_lexer": "ipython3",
   "version": "3.8.8"
  }
 },
 "nbformat": 4,
 "nbformat_minor": 5
}
