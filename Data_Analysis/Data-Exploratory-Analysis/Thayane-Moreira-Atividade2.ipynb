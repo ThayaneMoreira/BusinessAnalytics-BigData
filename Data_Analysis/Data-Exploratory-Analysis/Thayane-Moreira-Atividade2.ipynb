{
 "cells": [
  {
   "cell_type": "code",
   "execution_count": 1,
   "id": "8abae77c-d3f6-4692-a428-cac83e57afd5",
   "metadata": {},
   "outputs": [],
   "source": [
    "# importar biblioteca pandas\n",
    "import pandas as pd"
   ]
  },
  {
   "cell_type": "code",
   "execution_count": 2,
   "id": "285d9296-1572-4423-b746-96e9315850e8",
   "metadata": {},
   "outputs": [
    {
     "data": {
      "text/html": [
       "<div>\n",
       "<style scoped>\n",
       "    .dataframe tbody tr th:only-of-type {\n",
       "        vertical-align: middle;\n",
       "    }\n",
       "\n",
       "    .dataframe tbody tr th {\n",
       "        vertical-align: top;\n",
       "    }\n",
       "\n",
       "    .dataframe thead th {\n",
       "        text-align: right;\n",
       "    }\n",
       "</style>\n",
       "<table border=\"1\" class=\"dataframe\">\n",
       "  <thead>\n",
       "    <tr style=\"text-align: right;\">\n",
       "      <th></th>\n",
       "      <th>contador</th>\n",
       "      <th>ORIGEM</th>\n",
       "      <th>CODESTAB</th>\n",
       "      <th>CODMUNNASC</th>\n",
       "      <th>LOCNASC</th>\n",
       "      <th>IDADEMAE</th>\n",
       "      <th>ESTCIVMAE</th>\n",
       "      <th>ESCMAE</th>\n",
       "      <th>CODOCUPMAE</th>\n",
       "      <th>QTDFILVIVO</th>\n",
       "      <th>...</th>\n",
       "      <th>TPFUNCRESP</th>\n",
       "      <th>TPDOCRESP</th>\n",
       "      <th>DTDECLARAC</th>\n",
       "      <th>ESCMAEAGR1</th>\n",
       "      <th>STDNEPIDEM</th>\n",
       "      <th>STDNNOVA</th>\n",
       "      <th>CODPAISRES</th>\n",
       "      <th>TPROBSON</th>\n",
       "      <th>PARIDADE</th>\n",
       "      <th>KOTELCHUCK</th>\n",
       "    </tr>\n",
       "  </thead>\n",
       "  <tbody>\n",
       "    <tr>\n",
       "      <th>0</th>\n",
       "      <td>1</td>\n",
       "      <td>1</td>\n",
       "      <td>2415631</td>\n",
       "      <td>230440</td>\n",
       "      <td>1</td>\n",
       "      <td>24</td>\n",
       "      <td>2</td>\n",
       "      <td>4</td>\n",
       "      <td>999992</td>\n",
       "      <td>01</td>\n",
       "      <td>...</td>\n",
       "      <td>NaN</td>\n",
       "      <td>0</td>\n",
       "      <td>NaN</td>\n",
       "      <td>12</td>\n",
       "      <td>0</td>\n",
       "      <td>1</td>\n",
       "      <td>NaN</td>\n",
       "      <td>05</td>\n",
       "      <td>1</td>\n",
       "      <td>9</td>\n",
       "    </tr>\n",
       "    <tr>\n",
       "      <th>1</th>\n",
       "      <td>2</td>\n",
       "      <td>1</td>\n",
       "      <td>2005050</td>\n",
       "      <td>270030</td>\n",
       "      <td>1</td>\n",
       "      <td>34</td>\n",
       "      <td>5</td>\n",
       "      <td>4</td>\n",
       "      <td>622020</td>\n",
       "      <td>03</td>\n",
       "      <td>...</td>\n",
       "      <td>NaN</td>\n",
       "      <td>3</td>\n",
       "      <td>05042017</td>\n",
       "      <td>06</td>\n",
       "      <td>0</td>\n",
       "      <td>1</td>\n",
       "      <td>NaN</td>\n",
       "      <td>03</td>\n",
       "      <td>1</td>\n",
       "      <td>3</td>\n",
       "    </tr>\n",
       "    <tr>\n",
       "      <th>2</th>\n",
       "      <td>3</td>\n",
       "      <td>1</td>\n",
       "      <td>2005050</td>\n",
       "      <td>270030</td>\n",
       "      <td>1</td>\n",
       "      <td>19</td>\n",
       "      <td>2</td>\n",
       "      <td>4</td>\n",
       "      <td>622020</td>\n",
       "      <td>NaN</td>\n",
       "      <td>...</td>\n",
       "      <td>NaN</td>\n",
       "      <td>3</td>\n",
       "      <td>03042017</td>\n",
       "      <td>06</td>\n",
       "      <td>0</td>\n",
       "      <td>1</td>\n",
       "      <td>NaN</td>\n",
       "      <td>11</td>\n",
       "      <td>0</td>\n",
       "      <td>5</td>\n",
       "    </tr>\n",
       "  </tbody>\n",
       "</table>\n",
       "<p>3 rows × 61 columns</p>\n",
       "</div>"
      ],
      "text/plain": [
       "  contador ORIGEM CODESTAB CODMUNNASC LOCNASC IDADEMAE ESTCIVMAE ESCMAE  \\\n",
       "0        1      1  2415631     230440       1       24         2      4   \n",
       "1        2      1  2005050     270030       1       34         5      4   \n",
       "2        3      1  2005050     270030       1       19         2      4   \n",
       "\n",
       "  CODOCUPMAE QTDFILVIVO  ... TPFUNCRESP TPDOCRESP DTDECLARAC ESCMAEAGR1  \\\n",
       "0     999992         01  ...        NaN         0        NaN         12   \n",
       "1     622020         03  ...        NaN         3   05042017         06   \n",
       "2     622020        NaN  ...        NaN         3   03042017         06   \n",
       "\n",
       "  STDNEPIDEM STDNNOVA CODPAISRES TPROBSON PARIDADE KOTELCHUCK  \n",
       "0          0        1        NaN       05        1          9  \n",
       "1          0        1        NaN       03        1          3  \n",
       "2          0        1        NaN       11        0          5  \n",
       "\n",
       "[3 rows x 61 columns]"
      ]
     },
     "execution_count": 2,
     "metadata": {},
     "output_type": "execute_result"
    }
   ],
   "source": [
    "sergipe_df = pd.read_csv('DNSE2017.csv', encoding='utf-8', dtype=str)\n",
    "sergipe_df.head(3)"
   ]
  },
  {
   "cell_type": "code",
   "execution_count": 3,
   "id": "5539c86f-3e2a-430c-80d2-64de51405ec3",
   "metadata": {},
   "outputs": [
    {
     "data": {
      "text/plain": [
       "Index(['contador', 'ORIGEM', 'CODESTAB', 'CODMUNNASC', 'LOCNASC', 'IDADEMAE',\n",
       "       'ESTCIVMAE', 'ESCMAE', 'CODOCUPMAE', 'QTDFILVIVO', 'QTDFILMORT',\n",
       "       'CODMUNRES', 'GESTACAO', 'GRAVIDEZ', 'PARTO', 'CONSULTAS', 'DTNASC',\n",
       "       'HORANASC', 'SEXO', 'APGAR1', 'APGAR5', 'RACACOR', 'PESO', 'IDANOMAL',\n",
       "       'DTCADASTRO', 'CODANOMAL', 'NUMEROLOTE', 'VERSAOSIST', 'DTRECEBIM',\n",
       "       'DIFDATA', 'DTRECORIGA', 'NATURALMAE', 'CODMUNNATU', 'CODUFNATU',\n",
       "       'ESCMAE2010', 'SERIESCMAE', 'DTNASCMAE', 'RACACORMAE', 'QTDGESTANT',\n",
       "       'QTDPARTNOR', 'QTDPARTCES', 'IDADEPAI', 'DTULTMENST', 'SEMAGESTAC',\n",
       "       'TPMETESTIM', 'CONSPRENAT', 'MESPRENAT', 'TPAPRESENT', 'STTRABPART',\n",
       "       'STCESPARTO', 'TPNASCASSI', 'TPFUNCRESP', 'TPDOCRESP', 'DTDECLARAC',\n",
       "       'ESCMAEAGR1', 'STDNEPIDEM', 'STDNNOVA', 'CODPAISRES', 'TPROBSON',\n",
       "       'PARIDADE', 'KOTELCHUCK'],\n",
       "      dtype='object')"
      ]
     },
     "execution_count": 3,
     "metadata": {},
     "output_type": "execute_result"
    }
   ],
   "source": [
    "sergipe_df.columns"
   ]
  },
  {
   "cell_type": "code",
   "execution_count": 4,
   "id": "168c45e3-7a04-46fc-a77e-19bb2e6d546b",
   "metadata": {},
   "outputs": [],
   "source": [
    "# Transformar em dados quantitativos continuos - medições\n",
    "sergipe_df['PESO'] = pd.to_numeric(sergipe_df['PESO'])\n",
    "sergipe_df['IDADEMAE'] = pd.to_numeric(sergipe_df['IDADEMAE'])\n",
    "sergipe_df['IDADEPAI'] = pd.to_numeric(sergipe_df['IDADEPAI'])\n",
    "sergipe_df['APGAR1'] = pd.to_numeric(sergipe_df['APGAR1'])\n",
    "sergipe_df['APGAR5'] = pd.to_numeric(sergipe_df['APGAR5'])"
   ]
  },
  {
   "cell_type": "code",
   "execution_count": 5,
   "id": "db5a7f76-23df-413b-b2a9-f1a64d75c54c",
   "metadata": {},
   "outputs": [],
   "source": [
    "# Transformar em dados quantitativos discretos - contagem\n",
    "\n",
    "sergipe_df['QTDFILVIVO'] = pd.to_numeric(sergipe_df['QTDFILVIVO']).astype(pd.Int64Dtype())\n",
    "sergipe_df['QTDFILMORT'] = pd.to_numeric(sergipe_df['QTDFILMORT']).astype(pd.Int64Dtype())\n",
    "sergipe_df['SEMAGESTAC'] = pd.to_numeric(sergipe_df['SEMAGESTAC']).astype(pd.Int64Dtype())\n",
    "sergipe_df['CONSPRENAT'] = pd.to_numeric(sergipe_df['CONSPRENAT']).astype(pd.Int64Dtype())\n",
    "sergipe_df['SERIESCMAE'] = pd.to_numeric(sergipe_df['SERIESCMAE']).astype(pd.Int64Dtype())\n",
    "sergipe_df['QTDPARTNOR'] = pd.to_numeric(sergipe_df['QTDPARTNOR']).astype(pd.Int64Dtype())\n",
    "sergipe_df['QTDGESTANT'] = pd.to_numeric(sergipe_df['QTDGESTANT']).astype(pd.Int64Dtype())"
   ]
  },
  {
   "cell_type": "code",
   "execution_count": 62,
   "id": "52a0d4b5-e206-4496-84c7-012e05497ea4",
   "metadata": {},
   "outputs": [],
   "source": [
    "# Filtrando dados\n",
    "\n",
    "# parto normal\n",
    "normal = sergipe_df[sergipe_df.PARTO == '1']\n",
    "cesarea = sergipe_df[sergipe_df.PARTO == '2']\n",
    "\n",
    "#pre natal\n",
    "pre_natal_0 = sergipe_df[sergipe_df.CONSULTAS == '1']\n",
    "pre_natal_1_3 = sergipe_df[sergipe_df.CONSULTAS == '2']\n",
    "pre_natal_4_6 = sergipe_df[sergipe_df.CONSULTAS == '3']\n",
    "pre_natal_7 = sergipe_df[sergipe_df.CONSULTAS == '4']\n",
    "\n",
    "# gravidez\n",
    "gravidez_1 = sergipe_df[sergipe_df.GRAVIDEZ == '1']\n",
    "gravidez_2 = sergipe_df[sergipe_df.GRAVIDEZ == '2']\n",
    "gravidez_3 = sergipe_df[sergipe_df.GRAVIDEZ == '3']\n",
    "\n",
    "#escolaridade\n",
    "escolaridade_0 = sergipe_df[sergipe_df.ESCMAE == '1']\n",
    "escolaridade_1_3 = sergipe_df[sergipe_df.ESCMAE == '2']\n",
    "escolaridade_4_7 = sergipe_df[sergipe_df.ESCMAE == '3']\n",
    "escolaridade_8_11 = sergipe_df[sergipe_df.ESCMAE == '4']\n",
    "escolaridade_12 = sergipe_df[sergipe_df.ESCMAE == '5']"
   ]
  },
  {
   "cell_type": "code",
   "execution_count": 63,
   "id": "2ace2b1d-b781-4376-9756-f074a0f02060",
   "metadata": {},
   "outputs": [
    {
     "data": {
      "text/plain": [
       "(24.98357030015798, 27.634743425919698)"
      ]
     },
     "execution_count": 63,
     "metadata": {},
     "output_type": "execute_result"
    }
   ],
   "source": [
    "# Compare as idades das mães que fizeram cesárea e das mães que fizeram parto normal\n",
    "\n",
    "\n",
    "media_normal = normal.IDADEMAE.mean()\n",
    "media_cesarea = cesarea.IDADEMAE.mean()\n",
    "\n",
    "media_normal, media_cesarea"
   ]
  },
  {
   "cell_type": "code",
   "execution_count": 64,
   "id": "a77c2d1f-41ed-499c-8dc7-5752c39cab6d",
   "metadata": {},
   "outputs": [
    {
     "data": {
      "text/plain": [
       "(6.7129470762335846, 6.73197416774477)"
      ]
     },
     "execution_count": 64,
     "metadata": {},
     "output_type": "execute_result"
    }
   ],
   "source": [
    "# Desvio Padrão\n",
    "\n",
    "dp_normal = normal.IDADEMAE.std(ddof=0)\n",
    "dp_cesarea = cesarea.IDADEMAE.std(ddof=0)\n",
    "\n",
    "dp_normal, dp_cesarea"
   ]
  },
  {
   "cell_type": "code",
   "execution_count": 65,
   "id": "ca251f02-0674-4b92-9887-de2edd02a8d4",
   "metadata": {},
   "outputs": [
    {
     "data": {
      "text/plain": [
       "(26.86944658262529, 24.360545216535613)"
      ]
     },
     "execution_count": 65,
     "metadata": {},
     "output_type": "execute_result"
    }
   ],
   "source": [
    "# Coeficiente da variação\n",
    "\n",
    "cv_normal = (dp_normal/media_normal) * 100\n",
    "cv_cesarea = (dp_cesarea/media_cesarea) * 100\n",
    "cv_normal, cv_cesarea"
   ]
  },
  {
   "cell_type": "code",
   "execution_count": 66,
   "id": "f4590a00-5ef8-4ba9-8b06-a02229fb9aa2",
   "metadata": {},
   "outputs": [
    {
     "data": {
      "text/plain": [
       "(10.0, 11.0)"
      ]
     },
     "execution_count": 66,
     "metadata": {},
     "output_type": "execute_result"
    }
   ],
   "source": [
    "# Quartis\n",
    "\n",
    "q_normal = normal.IDADEMAE.quantile([0.25, 0.75]).values\n",
    "q_cesarea = cesarea.IDADEMAE.quantile([0.25, 0.75]).values\n",
    "iqr_normal = q_normal[1] - q_normal[0]\n",
    "iqr_cesarea = q_cesarea[1] - q_cesarea[0]\n",
    "iqr_normal, iqr_cesarea"
   ]
  },
  {
   "cell_type": "code",
   "execution_count": 67,
   "id": "298df855-ab56-4173-bc21-408501479d8b",
   "metadata": {},
   "outputs": [
    {
     "data": {
      "text/plain": [
       "(3192.6047932578354, 3262.2962539511736)"
      ]
     },
     "execution_count": 67,
     "metadata": {},
     "output_type": "execute_result"
    }
   ],
   "source": [
    "#Compare o peso da criança ao nascer das mães que fizeram cesárea e das mães que fizeram parto normal\n",
    "\n",
    "peso_media_normal = normal.PESO.mean()\n",
    "peso_media_cesarea = cesarea.PESO.mean()\n",
    "\n",
    "peso_normal, peso_cesarea"
   ]
  },
  {
   "cell_type": "code",
   "execution_count": 68,
   "id": "a1931f3d-d590-44b4-b8c3-81cd7e8af634",
   "metadata": {},
   "outputs": [
    {
     "data": {
      "text/plain": [
       "(555.2773218627556, 598.5772249226243)"
      ]
     },
     "execution_count": 68,
     "metadata": {},
     "output_type": "execute_result"
    }
   ],
   "source": [
    "# Desvio Padrão\n",
    "\n",
    "dp_peso_normal = normal.PESO.std(ddof=0)\n",
    "dp_peso_cesarea = cesarea.PESO.std(ddof=0)\n",
    "\n",
    "dp_peso_normal, dp_peso_cesarea"
   ]
  },
  {
   "cell_type": "code",
   "execution_count": 69,
   "id": "7bc3308b-a646-4714-9ee0-216a165d077f",
   "metadata": {},
   "outputs": [
    {
     "data": {
      "text/plain": [
       "(17.392610668110066, 18.348340503951764)"
      ]
     },
     "execution_count": 69,
     "metadata": {},
     "output_type": "execute_result"
    }
   ],
   "source": [
    "# Coeficiente da variação\n",
    "\n",
    "cv_peso_normal = (dp_peso_normal/peso_media_normal) * 100\n",
    "cv_peso_cesarea = (dp_peso_cesarea/peso_media_cesarea) * 100\n",
    "cv_peso_normal, cv_peso_cesarea"
   ]
  },
  {
   "cell_type": "code",
   "execution_count": 70,
   "id": "77910f61-85e1-4e19-83c1-4c7aa94ae627",
   "metadata": {},
   "outputs": [
    {
     "data": {
      "text/plain": [
       "(610.0, 678.0)"
      ]
     },
     "execution_count": 70,
     "metadata": {},
     "output_type": "execute_result"
    }
   ],
   "source": [
    "# Quartis\n",
    "\n",
    "q_peso_normal = normal.PESO.quantile([0.25, 0.75]).values\n",
    "q_peso_cesarea = cesarea.PESO.quantile([0.25, 0.75]).values\n",
    "iqr_peso_normal = q_peso_normal[1] - q_peso_normal[0]\n",
    "iqr_peso_cesarea = q_peso_cesarea[1] - q_peso_cesarea[0]\n",
    "iqr_peso_normal, iqr_peso_cesarea"
   ]
  },
  {
   "cell_type": "code",
   "execution_count": 71,
   "id": "f424b08c-b442-49c4-a460-6fa459a958b8",
   "metadata": {},
   "outputs": [
    {
     "data": {
      "text/plain": [
       "(3085.7057142857143, 3022.836124401914, 3166.4481224417154, 3295.601250066211)"
      ]
     },
     "execution_count": 71,
     "metadata": {},
     "output_type": "execute_result"
    }
   ],
   "source": [
    "#Compare o peso da criança ao nascer para as diferentes categorias de consultas pré-natal\n",
    "\n",
    "peso_prenatal_1 = pre_natal_0.PESO.mean()\n",
    "peso_prenatal_2 = pre_natal_1_3.PESO.mean()\n",
    "peso_prenatal_3 = pre_natal_4_6.PESO.mean()\n",
    "peso_prenatal_4 = pre_natal_7.PESO.mean()\n",
    "\n",
    "peso_prenatal_1, peso_prenatal_2, peso_prenatal_3, peso_prenatal_4\n"
   ]
  },
  {
   "cell_type": "code",
   "execution_count": 72,
   "id": "5774a36b-1012-4553-b995-c963560edecd",
   "metadata": {},
   "outputs": [
    {
     "data": {
      "text/plain": [
       "(675.3546638377106, 765.3629924592174, 600.658283903296, 500.7320838006726)"
      ]
     },
     "execution_count": 72,
     "metadata": {},
     "output_type": "execute_result"
    }
   ],
   "source": [
    "# Desvio Padrão\n",
    "\n",
    "dp_peso_prenatal_1 = pre_natal_0.PESO.std(ddof=0)\n",
    "dp_peso_prenatal_2 = pre_natal_1_3.PESO.std(ddof=0)\n",
    "dp_peso_prenatal_3 = pre_natal_4_6.PESO.std(ddof=0)\n",
    "dp_peso_prenatal_4 = pre_natal_7.PESO.std(ddof=0)\n",
    "\n",
    "dp_peso_prenatal_1, dp_peso_prenatal_2, dp_peso_prenatal_3, dp_peso_prenatal_4"
   ]
  },
  {
   "cell_type": "code",
   "execution_count": 73,
   "id": "637726db-4594-4ebb-83e1-550234c34ccc",
   "metadata": {},
   "outputs": [
    {
     "data": {
      "text/plain": [
       "(21.886554531466174, 25.31936767199542, 18.9694654918305, 15.193952356663676)"
      ]
     },
     "execution_count": 73,
     "metadata": {},
     "output_type": "execute_result"
    }
   ],
   "source": [
    "# Coeficiente da variação\n",
    "\n",
    "cv_peso_prenatal_1 = (dp_peso_prenatal_1/peso_prenatal_1) * 100\n",
    "cv_peso_prenatal_2 = (dp_peso_prenatal_2/peso_prenatal_2) * 100\n",
    "cv_peso_prenatal_3 = (dp_peso_prenatal_3/peso_prenatal_3) * 100\n",
    "cv_peso_prenatal_4 = (dp_peso_prenatal_4/peso_prenatal_4) * 100\n",
    "\n",
    "cv_peso_prenatal_1, cv_peso_prenatal_2, cv_peso_prenatal_3, cv_peso_prenatal_4"
   ]
  },
  {
   "cell_type": "code",
   "execution_count": 74,
   "id": "26535f46-8979-4fef-ad3b-0226fb6f8620",
   "metadata": {},
   "outputs": [
    {
     "data": {
      "text/plain": [
       "(718.0, 737.0, 670.0, 610.0)"
      ]
     },
     "execution_count": 74,
     "metadata": {},
     "output_type": "execute_result"
    }
   ],
   "source": [
    "# Quartis\n",
    "\n",
    "q_peso_prenatal_1 = pre_natal_0.PESO.quantile([0.25, 0.75]).values\n",
    "q_peso_prenatal_2 = pre_natal_1_3.PESO.quantile([0.25, 0.75]).values\n",
    "q_peso_prenatal_3 = pre_natal_4_6.PESO.quantile([0.25, 0.75]).values\n",
    "q_peso_prenatal_4 = pre_natal_7.PESO.quantile([0.25, 0.75]).values\n",
    "\n",
    "iqr_peso_prenatal_1 = q_peso_prenatal_1[1] - q_peso_prenatal_1[0]\n",
    "iqr_peso_prenatal_2 = q_peso_prenatal_2[1] - q_peso_prenatal_2[0]\n",
    "iqr_peso_prenatal_3 = q_peso_prenatal_3[1] - q_peso_prenatal_3[0]\n",
    "iqr_peso_prenatal_4 = q_peso_prenatal_4[1] - q_peso_prenatal_4[0]\n",
    "\n",
    "iqr_peso_prenatal_1, iqr_peso_prenatal_2, iqr_peso_prenatal_3, iqr_peso_prenatal_4\n",
    "\n"
   ]
  },
  {
   "cell_type": "code",
   "execution_count": 75,
   "id": "85e6d6b9-4526-4f60-ac1c-b5026d103b13",
   "metadata": {},
   "outputs": [
    {
     "name": "stdout",
     "output_type": "stream",
     "text": [
      "1.121665538253216 0.3096697499907129\n",
      "1.197749196141479 0.3501683501683502\n",
      "0.8333333333333334 0.2222222222222222\n"
     ]
    }
   ],
   "source": [
    "#Compare quantidade de filhos vivos e mortos em relação ao tipo de gravidez (única, dupla, tripla ou mais)\n",
    "\n",
    "# Filhos vivos:\n",
    "\n",
    "vivos_gravidez_1 = gravidez_1.QTDFILVIVO.mean()\n",
    "vivos_gravidez_2 = gravidez_2.QTDFILVIVO.mean()\n",
    "vivos_gravidez_3 = gravidez_3.QTDFILVIVO.mean()\n",
    "\n",
    "# Filhos mortos:\n",
    "\n",
    "mortos_gravidez_1 = gravidez_1.QTDFILMORT.mean()\n",
    "mortos_gravidez_2 = gravidez_2.QTDFILMORT.mean()\n",
    "mortos_gravidez_3 = gravidez_3.QTDFILMORT.mean()\n",
    "\n",
    "print(vivos_gravidez_1, mortos_gravidez_1)\n",
    "print(vivos_gravidez_2, mortos_gravidez_2)\n",
    "print(vivos_gravidez_3, mortos_gravidez_3)\n"
   ]
  },
  {
   "cell_type": "code",
   "execution_count": 76,
   "id": "6af460d0-ec98-4db5-8115-9bf0c6abc8e2",
   "metadata": {},
   "outputs": [
    {
     "name": "stdout",
     "output_type": "stream",
     "text": [
      "1.4171157790369837 0.6470016447822083\n",
      "1.4066201132093932 0.6528427646546483\n",
      "1.863389981249825 0.41573970964154905\n"
     ]
    }
   ],
   "source": [
    "# Desvio Padrão\n",
    "\n",
    "# Filhos vivos:\n",
    "\n",
    "dp_vivos_gravidez_1 = gravidez_1.QTDFILVIVO.std(ddof=0)\n",
    "dp_vivos_gravidez_2 = gravidez_2.QTDFILVIVO.std(ddof=0)\n",
    "dp_vivos_gravidez_3 = gravidez_3.QTDFILVIVO.std(ddof=0)\n",
    "\n",
    "# Filhos mortos:\n",
    "\n",
    "dp_mortos_gravidez_1 = gravidez_1.QTDFILMORT.std(ddof=0)\n",
    "dp_mortos_gravidez_2 = gravidez_2.QTDFILMORT.std(ddof=0)\n",
    "dp_mortos_gravidez_3 = gravidez_3.QTDFILMORT.std(ddof=0)\n",
    "\n",
    "\n",
    "print(dp_vivos_gravidez_1, dp_mortos_gravidez_1)\n",
    "print(dp_vivos_gravidez_2, dp_mortos_gravidez_2)\n",
    "print(dp_vivos_gravidez_3, dp_mortos_gravidez_3)"
   ]
  },
  {
   "cell_type": "code",
   "execution_count": 77,
   "id": "ca755278-dd9b-4576-812e-4f0e4e886d1e",
   "metadata": {},
   "outputs": [
    {
     "name": "stdout",
     "output_type": "stream",
     "text": [
      "126.340315424496 208.93278881828533\n",
      "117.4386188478178 186.43682798310627\n",
      "223.60679774997897 187.0828693386971\n"
     ]
    }
   ],
   "source": [
    "# Coeficiente da variação\n",
    "\n",
    "# Filhos vivos:\n",
    "\n",
    "cv_vivos_gravidez_1 = (dp_vivos_gravidez_1/vivos_gravidez_1) * 100\n",
    "cv_vivos_gravidez_2 = (dp_vivos_gravidez_2/vivos_gravidez_2) * 100\n",
    "cv_vivos_gravidez_3 = (dp_vivos_gravidez_3/vivos_gravidez_3) * 100\n",
    "\n",
    "# Filhos mortos:\n",
    "\n",
    "cv_mortos_gravidez_1 = (dp_mortos_gravidez_1/mortos_gravidez_1) * 100\n",
    "cv_mortos_gravidez_2 = (dp_mortos_gravidez_2/mortos_gravidez_2) * 100\n",
    "cv_mortos_gravidez_3 = (dp_mortos_gravidez_3/mortos_gravidez_3) * 100\n",
    "\n",
    "\n",
    "print(cv_vivos_gravidez_1, cv_mortos_gravidez_1)\n",
    "print(cv_vivos_gravidez_2, cv_mortos_gravidez_2)\n",
    "print(cv_vivos_gravidez_3, cv_mortos_gravidez_3)"
   ]
  },
  {
   "cell_type": "code",
   "execution_count": 78,
   "id": "f0be9dea-9cad-40f4-a75e-bec78f86f160",
   "metadata": {},
   "outputs": [
    {
     "name": "stdout",
     "output_type": "stream",
     "text": [
      "2.0 2.0\n",
      "2.0 2.0\n",
      "0.0 0.0\n"
     ]
    }
   ],
   "source": [
    "# Quartis\n",
    "\n",
    "# Filhos vivos:\n",
    "\n",
    "q_vivos_gravidez_1 = gravidez_1.QTDFILVIVO.quantile([0.25, 0.75]).values\n",
    "q_vivos_gravidez_2 = gravidez_2.QTDFILVIVO.quantile([0.25, 0.75]).values\n",
    "q_vivos_gravidez_3 = gravidez_3.QTDFILVIVO.quantile([0.25, 0.75]).values\n",
    "\n",
    "iqr_vivos_gravidez_1 = q_vivos_gravidez_1[1] - q_vivos_gravidez_1[0]\n",
    "iqr_vivos_gravidez_2 = q_vivos_gravidez_2[1] - q_vivos_gravidez_2[0]\n",
    "iqr_vivos_gravidez_3 = q_vivos_gravidez_3[1] - q_vivos_gravidez_3[0]\n",
    "\n",
    "# Filhos mortos:\n",
    "\n",
    "q_mortos_gravidez_1 = gravidez_1.QTDFILVIVO.quantile([0.25, 0.75]).values\n",
    "q_mortos_gravidez_2 = gravidez_2.QTDFILVIVO.quantile([0.25, 0.75]).values\n",
    "q_mortos_gravidez_3 = gravidez_3.QTDFILVIVO.quantile([0.25, 0.75]).values\n",
    "\n",
    "iqr_mortos_gravidez_1 = q_mortos_gravidez_1[1] - q_mortos_gravidez_1[0]\n",
    "iqr_mortos_gravidez_2 = q_mortos_gravidez_2[1] - q_mortos_gravidez_2[0]\n",
    "iqr_mortos_gravidez_3 = q_mortos_gravidez_3[1] - q_mortos_gravidez_3[0]\n",
    "\n",
    "\n",
    "print(iqr_vivos_gravidez_1, iqr_mortos_gravidez_1)\n",
    "print(iqr_vivos_gravidez_2, iqr_mortos_gravidez_2)\n",
    "print(iqr_vivos_gravidez_3, iqr_mortos_gravidez_3)\n"
   ]
  },
  {
   "cell_type": "code",
   "execution_count": 80,
   "id": "e101025d-9892-4cd5-9973-2619df9dc94c",
   "metadata": {},
   "outputs": [
    {
     "name": "stderr",
     "output_type": "stream",
     "text": [
      "<ipython-input-80-745604e04a53>:3: SettingWithCopyWarning: \n",
      "A value is trying to be set on a copy of a slice from a DataFrame.\n",
      "Try using .loc[row_indexer,col_indexer] = value instead\n",
      "\n",
      "See the caveats in the documentation: https://pandas.pydata.org/pandas-docs/stable/user_guide/indexing.html#returning-a-view-versus-a-copy\n",
      "  escolaridade_0['FILHOS'] = escolaridade_0.QTDFILVIVO + escolaridade_0.QTDFILMORT\n",
      "<ipython-input-80-745604e04a53>:4: SettingWithCopyWarning: \n",
      "A value is trying to be set on a copy of a slice from a DataFrame.\n",
      "Try using .loc[row_indexer,col_indexer] = value instead\n",
      "\n",
      "See the caveats in the documentation: https://pandas.pydata.org/pandas-docs/stable/user_guide/indexing.html#returning-a-view-versus-a-copy\n",
      "  escolaridade_1_3['FILHOS'] = escolaridade_1_3.QTDFILVIVO + escolaridade_1_3.QTDFILMORT\n",
      "<ipython-input-80-745604e04a53>:5: SettingWithCopyWarning: \n",
      "A value is trying to be set on a copy of a slice from a DataFrame.\n",
      "Try using .loc[row_indexer,col_indexer] = value instead\n",
      "\n",
      "See the caveats in the documentation: https://pandas.pydata.org/pandas-docs/stable/user_guide/indexing.html#returning-a-view-versus-a-copy\n",
      "  escolaridade_4_7['FILHOS'] = escolaridade_4_7.QTDFILVIVO + escolaridade_4_7.QTDFILMORT\n",
      "<ipython-input-80-745604e04a53>:6: SettingWithCopyWarning: \n",
      "A value is trying to be set on a copy of a slice from a DataFrame.\n",
      "Try using .loc[row_indexer,col_indexer] = value instead\n",
      "\n",
      "See the caveats in the documentation: https://pandas.pydata.org/pandas-docs/stable/user_guide/indexing.html#returning-a-view-versus-a-copy\n",
      "  escolaridade_8_11['FILHOS'] = escolaridade_8_11.QTDFILVIVO + escolaridade_8_11.QTDFILMORT\n",
      "<ipython-input-80-745604e04a53>:7: SettingWithCopyWarning: \n",
      "A value is trying to be set on a copy of a slice from a DataFrame.\n",
      "Try using .loc[row_indexer,col_indexer] = value instead\n",
      "\n",
      "See the caveats in the documentation: https://pandas.pydata.org/pandas-docs/stable/user_guide/indexing.html#returning-a-view-versus-a-copy\n",
      "  escolaridade_12['FILHOS'] = escolaridade_12.QTDFILVIVO + escolaridade_12.QTDFILMORT\n"
     ]
    },
    {
     "data": {
      "text/plain": [
       "(5.3105590062111805,\n",
       " 3.5444630872483223,\n",
       " 1.8571001941167686,\n",
       " 1.0898249000413622,\n",
       " 0.7098411297440423)"
      ]
     },
     "execution_count": 80,
     "metadata": {},
     "output_type": "execute_result"
    }
   ],
   "source": [
    "#Compare a quantidade total de gravidez (filhos vivos + filhos mortos) em relação a escolaridade\n",
    "\n",
    "escolaridade_0['FILHOS'] = escolaridade_0.QTDFILVIVO + escolaridade_0.QTDFILMORT\n",
    "escolaridade_1_3['FILHOS'] = escolaridade_1_3.QTDFILVIVO + escolaridade_1_3.QTDFILMORT\n",
    "escolaridade_4_7['FILHOS'] = escolaridade_4_7.QTDFILVIVO + escolaridade_4_7.QTDFILMORT\n",
    "escolaridade_8_11['FILHOS'] = escolaridade_8_11.QTDFILVIVO + escolaridade_8_11.QTDFILMORT\n",
    "escolaridade_12['FILHOS'] = escolaridade_12.QTDFILVIVO + escolaridade_12.QTDFILMORT\n",
    "\n",
    "media_esc_0 = escolaridade_0.FILHOS.mean()\n",
    "media_esc_1_3 = escolaridade_1_3.FILHOS.mean()\n",
    "media_esc_4_7 = escolaridade_4_7.FILHOS.mean()\n",
    "media_esc_8_11 = escolaridade_8_11.FILHOS.mean()\n",
    "media_esc_12 = escolaridade_12.FILHOS.mean()\n",
    "\n",
    "media_esc_0, media_esc_1_3, media_esc_4_7, media_esc_8_11, media_esc_12"
   ]
  },
  {
   "cell_type": "code",
   "execution_count": 81,
   "id": "4724e7fc-194f-4a13-851b-df2374c1b6ae",
   "metadata": {},
   "outputs": [
    {
     "data": {
      "text/plain": [
       "(3.1252051358156003,\n",
       " 2.719190355277608,\n",
       " 1.9058880530303584,\n",
       " 1.322157837809025,\n",
       " 0.9863858228552761)"
      ]
     },
     "execution_count": 81,
     "metadata": {},
     "output_type": "execute_result"
    }
   ],
   "source": [
    "# Desvio Padrão\n",
    "\n",
    "dp_escolaridade_0 = escolaridade_0.FILHOS.std(ddof=0)\n",
    "dp_escolaridade_1_3 = escolaridade_1_3.FILHOS.std(ddof=0)\n",
    "dp_escolaridade_4_7 = escolaridade_4_7.FILHOS.std(ddof=0)\n",
    "dp_escolaridade_8_11 = escolaridade_8_11.FILHOS.std(ddof=0)\n",
    "dp_escolaridade_12 = escolaridade_12.FILHOS.std(ddof=0)\n",
    "\n",
    "dp_escolaridade_0, dp_escolaridade_1_3, dp_escolaridade_4_7, dp_escolaridade_8_11, dp_escolaridade_12"
   ]
  },
  {
   "cell_type": "code",
   "execution_count": null,
   "id": "4a7a39c1-04c3-41a9-9b4a-13cf7387b6af",
   "metadata": {},
   "outputs": [],
   "source": []
  },
  {
   "cell_type": "code",
   "execution_count": null,
   "id": "06e2c8da-044d-4b33-bf5b-a2ee5669db50",
   "metadata": {},
   "outputs": [],
   "source": []
  }
 ],
 "metadata": {
  "kernelspec": {
   "display_name": "Python 3",
   "language": "python",
   "name": "python3"
  },
  "language_info": {
   "codemirror_mode": {
    "name": "ipython",
    "version": 3
   },
   "file_extension": ".py",
   "mimetype": "text/x-python",
   "name": "python",
   "nbconvert_exporter": "python",
   "pygments_lexer": "ipython3",
   "version": "3.8.8"
  }
 },
 "nbformat": 4,
 "nbformat_minor": 5
}
