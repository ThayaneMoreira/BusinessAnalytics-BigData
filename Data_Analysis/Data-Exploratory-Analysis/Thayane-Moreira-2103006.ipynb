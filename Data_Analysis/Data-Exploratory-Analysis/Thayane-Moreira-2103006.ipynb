{
 "cells": [
  {
   "cell_type": "code",
   "execution_count": 1,
   "id": "06c13c97-178b-4118-9d60-b03f1645afec",
   "metadata": {},
   "outputs": [],
   "source": [
    "# importar biblioteca pandas\n",
    "import pandas as pd"
   ]
  },
  {
   "cell_type": "code",
   "execution_count": 2,
   "id": "4f04a9fd-2b45-4ac4-b03a-f09076c0086a",
   "metadata": {},
   "outputs": [
    {
     "data": {
      "text/html": [
       "<div>\n",
       "<style scoped>\n",
       "    .dataframe tbody tr th:only-of-type {\n",
       "        vertical-align: middle;\n",
       "    }\n",
       "\n",
       "    .dataframe tbody tr th {\n",
       "        vertical-align: top;\n",
       "    }\n",
       "\n",
       "    .dataframe thead th {\n",
       "        text-align: right;\n",
       "    }\n",
       "</style>\n",
       "<table border=\"1\" class=\"dataframe\">\n",
       "  <thead>\n",
       "    <tr style=\"text-align: right;\">\n",
       "      <th></th>\n",
       "      <th>contador</th>\n",
       "      <th>ORIGEM</th>\n",
       "      <th>CODESTAB</th>\n",
       "      <th>CODMUNNASC</th>\n",
       "      <th>LOCNASC</th>\n",
       "      <th>IDADEMAE</th>\n",
       "      <th>ESTCIVMAE</th>\n",
       "      <th>ESCMAE</th>\n",
       "      <th>CODOCUPMAE</th>\n",
       "      <th>QTDFILVIVO</th>\n",
       "      <th>...</th>\n",
       "      <th>TPFUNCRESP</th>\n",
       "      <th>TPDOCRESP</th>\n",
       "      <th>DTDECLARAC</th>\n",
       "      <th>ESCMAEAGR1</th>\n",
       "      <th>STDNEPIDEM</th>\n",
       "      <th>STDNNOVA</th>\n",
       "      <th>CODPAISRES</th>\n",
       "      <th>TPROBSON</th>\n",
       "      <th>PARIDADE</th>\n",
       "      <th>KOTELCHUCK</th>\n",
       "    </tr>\n",
       "  </thead>\n",
       "  <tbody>\n",
       "    <tr>\n",
       "      <th>0</th>\n",
       "      <td>1</td>\n",
       "      <td>1</td>\n",
       "      <td>2415631.0</td>\n",
       "      <td>230440</td>\n",
       "      <td>1</td>\n",
       "      <td>24</td>\n",
       "      <td>2.0</td>\n",
       "      <td>4.0</td>\n",
       "      <td>999992.0</td>\n",
       "      <td>1.0</td>\n",
       "      <td>...</td>\n",
       "      <td>NaN</td>\n",
       "      <td>0.0</td>\n",
       "      <td>NaN</td>\n",
       "      <td>12.0</td>\n",
       "      <td>0</td>\n",
       "      <td>1</td>\n",
       "      <td>NaN</td>\n",
       "      <td>5</td>\n",
       "      <td>1</td>\n",
       "      <td>9</td>\n",
       "    </tr>\n",
       "    <tr>\n",
       "      <th>1</th>\n",
       "      <td>2</td>\n",
       "      <td>1</td>\n",
       "      <td>2005050.0</td>\n",
       "      <td>270030</td>\n",
       "      <td>1</td>\n",
       "      <td>34</td>\n",
       "      <td>5.0</td>\n",
       "      <td>4.0</td>\n",
       "      <td>622020.0</td>\n",
       "      <td>3.0</td>\n",
       "      <td>...</td>\n",
       "      <td>NaN</td>\n",
       "      <td>3.0</td>\n",
       "      <td>5042017.0</td>\n",
       "      <td>6.0</td>\n",
       "      <td>0</td>\n",
       "      <td>1</td>\n",
       "      <td>NaN</td>\n",
       "      <td>3</td>\n",
       "      <td>1</td>\n",
       "      <td>3</td>\n",
       "    </tr>\n",
       "    <tr>\n",
       "      <th>2</th>\n",
       "      <td>3</td>\n",
       "      <td>1</td>\n",
       "      <td>2005050.0</td>\n",
       "      <td>270030</td>\n",
       "      <td>1</td>\n",
       "      <td>19</td>\n",
       "      <td>2.0</td>\n",
       "      <td>4.0</td>\n",
       "      <td>622020.0</td>\n",
       "      <td>NaN</td>\n",
       "      <td>...</td>\n",
       "      <td>NaN</td>\n",
       "      <td>3.0</td>\n",
       "      <td>3042017.0</td>\n",
       "      <td>6.0</td>\n",
       "      <td>0</td>\n",
       "      <td>1</td>\n",
       "      <td>NaN</td>\n",
       "      <td>11</td>\n",
       "      <td>0</td>\n",
       "      <td>5</td>\n",
       "    </tr>\n",
       "  </tbody>\n",
       "</table>\n",
       "<p>3 rows × 61 columns</p>\n",
       "</div>"
      ],
      "text/plain": [
       "   contador  ORIGEM   CODESTAB  CODMUNNASC  LOCNASC  IDADEMAE  ESTCIVMAE  \\\n",
       "0         1       1  2415631.0      230440        1        24        2.0   \n",
       "1         2       1  2005050.0      270030        1        34        5.0   \n",
       "2         3       1  2005050.0      270030        1        19        2.0   \n",
       "\n",
       "   ESCMAE  CODOCUPMAE  QTDFILVIVO  ...  TPFUNCRESP  TPDOCRESP  DTDECLARAC  \\\n",
       "0     4.0    999992.0         1.0  ...         NaN        0.0         NaN   \n",
       "1     4.0    622020.0         3.0  ...         NaN        3.0   5042017.0   \n",
       "2     4.0    622020.0         NaN  ...         NaN        3.0   3042017.0   \n",
       "\n",
       "   ESCMAEAGR1  STDNEPIDEM  STDNNOVA  CODPAISRES  TPROBSON  PARIDADE  \\\n",
       "0        12.0           0         1         NaN         5         1   \n",
       "1         6.0           0         1         NaN         3         1   \n",
       "2         6.0           0         1         NaN        11         0   \n",
       "\n",
       "   KOTELCHUCK  \n",
       "0           9  \n",
       "1           3  \n",
       "2           5  \n",
       "\n",
       "[3 rows x 61 columns]"
      ]
     },
     "execution_count": 2,
     "metadata": {},
     "output_type": "execute_result"
    }
   ],
   "source": [
    "sergipe_df = pd.read_csv('DNSE2017.csv', encoding='utf-8')\n",
    "sergipe_df.head(3)"
   ]
  },
  {
   "cell_type": "code",
   "execution_count": 3,
   "id": "8c71f565-d8ef-416b-a35f-1a046f1a2e1b",
   "metadata": {},
   "outputs": [
    {
     "data": {
      "text/plain": [
       "Index(['contador', 'ORIGEM', 'CODESTAB', 'CODMUNNASC', 'LOCNASC', 'IDADEMAE',\n",
       "       'ESTCIVMAE', 'ESCMAE', 'CODOCUPMAE', 'QTDFILVIVO', 'QTDFILMORT',\n",
       "       'CODMUNRES', 'GESTACAO', 'GRAVIDEZ', 'PARTO', 'CONSULTAS', 'DTNASC',\n",
       "       'HORANASC', 'SEXO', 'APGAR1', 'APGAR5', 'RACACOR', 'PESO', 'IDANOMAL',\n",
       "       'DTCADASTRO', 'CODANOMAL', 'NUMEROLOTE', 'VERSAOSIST', 'DTRECEBIM',\n",
       "       'DIFDATA', 'DTRECORIGA', 'NATURALMAE', 'CODMUNNATU', 'CODUFNATU',\n",
       "       'ESCMAE2010', 'SERIESCMAE', 'DTNASCMAE', 'RACACORMAE', 'QTDGESTANT',\n",
       "       'QTDPARTNOR', 'QTDPARTCES', 'IDADEPAI', 'DTULTMENST', 'SEMAGESTAC',\n",
       "       'TPMETESTIM', 'CONSPRENAT', 'MESPRENAT', 'TPAPRESENT', 'STTRABPART',\n",
       "       'STCESPARTO', 'TPNASCASSI', 'TPFUNCRESP', 'TPDOCRESP', 'DTDECLARAC',\n",
       "       'ESCMAEAGR1', 'STDNEPIDEM', 'STDNNOVA', 'CODPAISRES', 'TPROBSON',\n",
       "       'PARIDADE', 'KOTELCHUCK'],\n",
       "      dtype='object')"
      ]
     },
     "execution_count": 3,
     "metadata": {},
     "output_type": "execute_result"
    }
   ],
   "source": [
    "sergipe_df.columns"
   ]
  },
  {
   "cell_type": "code",
   "execution_count": 13,
   "id": "598ff867-b65b-43e7-9368-5d32a097998e",
   "metadata": {},
   "outputs": [],
   "source": [
    "# Transformar em dados quantitativos continuos - medições\n",
    "sergipe_df['PESO'] = pd.to_numeric(sergipe_df['PESO'])\n",
    "sergipe_df['IDADEMAE'] = pd.to_numeric(sergipe_df['IDADEMAE'])\n",
    "sergipe_df['IDADEPAI'] = pd.to_numeric(sergipe_df['IDADEPAI'])\n",
    "sergipe_df['APGAR1'] = pd.to_numeric(sergipe_df['APGAR1'])\n",
    "sergipe_df['APGAR5'] = pd.to_numeric(sergipe_df['APGAR5'])"
   ]
  },
  {
   "cell_type": "code",
   "execution_count": 14,
   "id": "49d363ec-010f-4622-bdee-512ee7ca092c",
   "metadata": {},
   "outputs": [],
   "source": [
    "# Transformar em dados quantitativos discretos - contagem\n",
    "\n",
    "sergipe_df['QTDFILVIVO'] = pd.to_numeric(sergipe_df['QTDFILVIVO']).astype(pd.Int64Dtype())\n",
    "sergipe_df['QTDFILMORT'] = pd.to_numeric(sergipe_df['QTDFILMORT']).astype(pd.Int64Dtype())\n",
    "sergipe_df['SEMAGESTAC'] = pd.to_numeric(sergipe_df['SEMAGESTAC']).astype(pd.Int64Dtype())\n",
    "sergipe_df['CONSPRENAT'] = pd.to_numeric(sergipe_df['CONSPRENAT']).astype(pd.Int64Dtype())\n",
    "sergipe_df['SERIESCMAE'] = pd.to_numeric(sergipe_df['SERIESCMAE']).astype(pd.Int64Dtype())\n",
    "sergipe_df['QTDPARTNOR'] = pd.to_numeric(sergipe_df['QTDPARTNOR']).astype(pd.Int64Dtype())\n",
    "sergipe_df['QTDGESTANT'] = pd.to_numeric(sergipe_df['QTDGESTANT']).astype(pd.Int64Dtype())"
   ]
  },
  {
   "cell_type": "code",
   "execution_count": 15,
   "id": "050924d3-ff7a-45ef-8966-d9af497f07ce",
   "metadata": {},
   "outputs": [
    {
     "data": {
      "text/plain": [
       "IDADEMAE        26.15\n",
       "PESO          3223.20\n",
       "QTDFILVIVO       1.12\n",
       "QTDFILMORT       0.31\n",
       "APGAR1           8.44\n",
       "APGAR5           9.53\n",
       "dtype: float64"
      ]
     },
     "execution_count": 15,
     "metadata": {},
     "output_type": "execute_result"
    }
   ],
   "source": [
    "# 1. Qual a média da idade da mãe, peso, apgar 1 min, apgar 5 min, quantidade de filhos vivos e quantidade de filhos mortos?\n",
    "\n",
    "round(sergipe_df[['IDADEMAE', 'PESO', 'QTDFILVIVO','QTDFILMORT', 'APGAR1', 'APGAR5']].mean(), 2)"
   ]
  },
  {
   "cell_type": "code",
   "execution_count": 16,
   "id": "d39833c5-88eb-4fe6-8113-1e6fe4aa7bcc",
   "metadata": {},
   "outputs": [
    {
     "data": {
      "text/plain": [
       "IDADEMAE    26.0\n",
       "dtype: float64"
      ]
     },
     "execution_count": 16,
     "metadata": {},
     "output_type": "execute_result"
    }
   ],
   "source": [
    "# 2. Qual a idade tal que metade das idades das mães são menores que ela (mediana)?\n",
    "\n",
    "round(sergipe_df[['IDADEMAE']].median(), 2)"
   ]
  },
  {
   "cell_type": "code",
   "execution_count": 17,
   "id": "5d00953c-83cd-414a-8119-afbd6e449d28",
   "metadata": {},
   "outputs": [
    {
     "data": {
      "text/html": [
       "<div>\n",
       "<style scoped>\n",
       "    .dataframe tbody tr th:only-of-type {\n",
       "        vertical-align: middle;\n",
       "    }\n",
       "\n",
       "    .dataframe tbody tr th {\n",
       "        vertical-align: top;\n",
       "    }\n",
       "\n",
       "    .dataframe thead th {\n",
       "        text-align: right;\n",
       "    }\n",
       "</style>\n",
       "<table border=\"1\" class=\"dataframe\">\n",
       "  <thead>\n",
       "    <tr style=\"text-align: right;\">\n",
       "      <th></th>\n",
       "      <th>APGAR1</th>\n",
       "    </tr>\n",
       "  </thead>\n",
       "  <tbody>\n",
       "    <tr>\n",
       "      <th>0</th>\n",
       "      <td>9.0</td>\n",
       "    </tr>\n",
       "  </tbody>\n",
       "</table>\n",
       "</div>"
      ],
      "text/plain": [
       "   APGAR1\n",
       "0     9.0"
      ]
     },
     "execution_count": 17,
     "metadata": {},
     "output_type": "execute_result"
    }
   ],
   "source": [
    "# 3. Qual o apgar de 1 min que mais aparece (moda)?\n",
    "\n",
    "round(sergipe_df[['APGAR1']].mode(), 2)"
   ]
  },
  {
   "cell_type": "code",
   "execution_count": 18,
   "id": "9af625bf-5ee3-4905-8966-7cc8eb600757",
   "metadata": {},
   "outputs": [
    {
     "data": {
      "text/html": [
       "<div>\n",
       "<style scoped>\n",
       "    .dataframe tbody tr th:only-of-type {\n",
       "        vertical-align: middle;\n",
       "    }\n",
       "\n",
       "    .dataframe tbody tr th {\n",
       "        vertical-align: top;\n",
       "    }\n",
       "\n",
       "    .dataframe thead th {\n",
       "        text-align: right;\n",
       "    }\n",
       "</style>\n",
       "<table border=\"1\" class=\"dataframe\">\n",
       "  <thead>\n",
       "    <tr style=\"text-align: right;\">\n",
       "      <th></th>\n",
       "      <th>APGAR5</th>\n",
       "    </tr>\n",
       "  </thead>\n",
       "  <tbody>\n",
       "    <tr>\n",
       "      <th>0</th>\n",
       "      <td>10.0</td>\n",
       "    </tr>\n",
       "  </tbody>\n",
       "</table>\n",
       "</div>"
      ],
      "text/plain": [
       "   APGAR5\n",
       "0    10.0"
      ]
     },
     "execution_count": 18,
     "metadata": {},
     "output_type": "execute_result"
    }
   ],
   "source": [
    "# 4. Qual o apgar de 5 minutos que mais aparece?\n",
    "\n",
    "round(sergipe_df[['APGAR5']].mode(), 2)"
   ]
  },
  {
   "cell_type": "code",
   "execution_count": 19,
   "id": "9b0deb45-0ef2-4af6-a2e2-2cc82ff53805",
   "metadata": {},
   "outputs": [
    {
     "data": {
      "text/plain": [
       "0.1    2570.0\n",
       "Name: PESO, dtype: float64"
      ]
     },
     "execution_count": 19,
     "metadata": {},
     "output_type": "execute_result"
    }
   ],
   "source": [
    "# 5. Qual o peso da criança tal que 10% dos pesos são menores (P10)?\n",
    "\n",
    "quantis_P10 = round(sergipe_df['PESO'].quantile([0.1]), 2)\n",
    "quantis_P10"
   ]
  },
  {
   "cell_type": "code",
   "execution_count": 20,
   "id": "f35d0821-dd6d-43e6-890c-cc0a13a703b5",
   "metadata": {},
   "outputs": [
    {
     "data": {
      "text/plain": [
       "0.1    2570.0\n",
       "Name: PESO, dtype: float64"
      ]
     },
     "execution_count": 20,
     "metadata": {},
     "output_type": "execute_result"
    }
   ],
   "source": [
    "# 6. Qual o peso da criança tal que 10% dos pesos são menores (P10)?\n",
    "\n",
    "quantis_P10 = round(sergipe_df['PESO'].quantile([0.1]), 2)\n",
    "quantis_P10"
   ]
  },
  {
   "cell_type": "code",
   "execution_count": 22,
   "id": "6ceedaaf-c4ff-4677-a3ad-72822e5841b0",
   "metadata": {},
   "outputs": [
    {
     "data": {
      "text/html": [
       "<div>\n",
       "<style scoped>\n",
       "    .dataframe tbody tr th:only-of-type {\n",
       "        vertical-align: middle;\n",
       "    }\n",
       "\n",
       "    .dataframe tbody tr th {\n",
       "        vertical-align: top;\n",
       "    }\n",
       "\n",
       "    .dataframe thead th {\n",
       "        text-align: right;\n",
       "    }\n",
       "</style>\n",
       "<table border=\"1\" class=\"dataframe\">\n",
       "  <thead>\n",
       "    <tr style=\"text-align: right;\">\n",
       "      <th></th>\n",
       "      <th>QTDFILMORT</th>\n",
       "    </tr>\n",
       "  </thead>\n",
       "  <tbody>\n",
       "    <tr>\n",
       "      <th>0</th>\n",
       "      <td>0</td>\n",
       "    </tr>\n",
       "  </tbody>\n",
       "</table>\n",
       "</div>"
      ],
      "text/plain": [
       "   QTDFILMORT\n",
       "0           0"
      ]
     },
     "execution_count": 22,
     "metadata": {},
     "output_type": "execute_result"
    }
   ],
   "source": [
    "# 7. Qual a quantidade de filhos mortos que mais aparece?\n",
    "\n",
    "sergipe_df[['QTDFILMORT']].mode()"
   ]
  },
  {
   "cell_type": "code",
   "execution_count": 32,
   "id": "f3d4b8c0-07fc-4a9c-88ad-7462318e2717",
   "metadata": {},
   "outputs": [
    {
     "data": {
      "text/plain": [
       "24.929703822047436"
      ]
     },
     "execution_count": 32,
     "metadata": {},
     "output_type": "execute_result"
    }
   ],
   "source": [
    "# 8. Qual a média de idade de mães solteiras?\n",
    "\n",
    "sergipe_df[sergipe_df['ESTCIVMAE'] == 1.0]['IDADEMAE'].mean()"
   ]
  },
  {
   "cell_type": "code",
   "execution_count": 38,
   "id": "f9c9fef5-5b9a-4317-b399-3edc053183eb",
   "metadata": {},
   "outputs": [
    {
     "data": {
      "text/plain": [
       "1.0"
      ]
     },
     "execution_count": 38,
     "metadata": {},
     "output_type": "execute_result"
    }
   ],
   "source": [
    "# 9.   Qual a quantidade de filhos vivos das mães com até 3 anos de escolaridade tal que 25% dessa quantidade são menores (Q1)?\n",
    "escolaridade = sergipe_df[(sergipe_df['ESCMAE'] == 1) | (sergipe_df['ESCMAE'] == 2)]\n",
    "escolaridade['QTDFILVIVO'].quantile(0.25)"
   ]
  },
  {
   "cell_type": "code",
   "execution_count": 37,
   "id": "dde02244-70fe-406d-b1af-81c28478a4d4",
   "metadata": {},
   "outputs": [
    {
     "data": {
      "text/html": [
       "<div>\n",
       "<style scoped>\n",
       "    .dataframe tbody tr th:only-of-type {\n",
       "        vertical-align: middle;\n",
       "    }\n",
       "\n",
       "    .dataframe tbody tr th {\n",
       "        vertical-align: top;\n",
       "    }\n",
       "\n",
       "    .dataframe thead th {\n",
       "        text-align: right;\n",
       "    }\n",
       "</style>\n",
       "<table border=\"1\" class=\"dataframe\">\n",
       "  <thead>\n",
       "    <tr style=\"text-align: right;\">\n",
       "      <th></th>\n",
       "      <th>IDADEMAE</th>\n",
       "      <th>IDANOMAL</th>\n",
       "    </tr>\n",
       "  </thead>\n",
       "  <tbody>\n",
       "    <tr>\n",
       "      <th>0</th>\n",
       "      <td>20</td>\n",
       "      <td>2.0</td>\n",
       "    </tr>\n",
       "    <tr>\n",
       "      <th>1</th>\n",
       "      <td>21</td>\n",
       "      <td>NaN</td>\n",
       "    </tr>\n",
       "  </tbody>\n",
       "</table>\n",
       "</div>"
      ],
      "text/plain": [
       "   IDADEMAE  IDANOMAL\n",
       "0        20       2.0\n",
       "1        21       NaN"
      ]
     },
     "execution_count": 37,
     "metadata": {},
     "output_type": "execute_result"
    }
   ],
   "source": [
    "#10.   Qual a moda da idade das mães para as crianças que nasceram com anomalia congênita?\n",
    "anomalia = sergipe_df[sergipe_df['IDANOMAL'] == '1']\n",
    "moda = sergipe_df[['IDADEMAE', 'IDANOMAL']]\n",
    "moda = moda.mode()\n",
    "moda"
   ]
  },
  {
   "cell_type": "code",
   "execution_count": null,
   "id": "c3d1952c-b9d3-4ab1-97e1-f73684eb4016",
   "metadata": {},
   "outputs": [],
   "source": []
  }
 ],
 "metadata": {
  "kernelspec": {
   "display_name": "Python 3",
   "language": "python",
   "name": "python3"
  },
  "language_info": {
   "codemirror_mode": {
    "name": "ipython",
    "version": 3
   },
   "file_extension": ".py",
   "mimetype": "text/x-python",
   "name": "python",
   "nbconvert_exporter": "python",
   "pygments_lexer": "ipython3",
   "version": "3.8.8"
  }
 },
 "nbformat": 4,
 "nbformat_minor": 5
}
