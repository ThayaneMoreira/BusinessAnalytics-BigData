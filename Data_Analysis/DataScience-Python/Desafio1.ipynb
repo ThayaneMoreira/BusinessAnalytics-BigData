{
 "cells": [
  {
   "cell_type": "code",
   "execution_count": 13,
   "id": "1b95132c-199c-49ca-94b2-4ddfa19daae6",
   "metadata": {},
   "outputs": [
    {
     "name": "stdout",
     "output_type": "stream",
     "text": [
      "a 16\n",
      "c 3\n",
      "d 10\n",
      "e 11\n",
      "i 4\n",
      "m 3\n",
      "n 5\n",
      "o 11\n",
      "q 2\n",
      "r 6\n",
      "s 12\n",
      "t 4\n",
      "u 3\n",
      "v 2\n",
      "z 2\n",
      "á 2\n",
      "ç 3\n",
      "Quantidade total de letras da frase : 108 \n",
      "Total de letras que se repetem : 17 \n"
     ]
    }
   ],
   "source": [
    "alfabeto_validacao = \"abcdefghijklmnopqrstuvwxyzáàâãéèêíïóôõöúçñ\"\n",
    "texto =\"Um forte indicador de que já há avanços de Democratização de Dados nas organizações é observar quantas pessoas tem acesso a Dados.\".lower()\n",
    "\n",
    "quantidadeTotalLetras = len(texto) - texto.count('.') - texto.count(' ')\n",
    "quantidadeTotalLetrasRepetidas = 0\n",
    "for letra in alfabeto_validacao:\n",
    "  quantidade = texto.count(letra)\n",
    "  if quantidade > 1:\n",
    "    quantidadeTotalLetrasRepetidas = quantidadeTotalLetrasRepetidas +1\n",
    "    print (letra, quantidade)\n",
    "print(f'Quantidade total de letras da frase : {quantidadeTotalLetras} ')\n",
    "print(f'Total de letras que se repetem : {quantidadeTotalLetrasRepetidas} ')"
   ]
  },
  {
   "cell_type": "code",
   "execution_count": null,
   "id": "53725435-f4b7-41fa-b6c1-ab94e5ed2480",
   "metadata": {},
   "outputs": [],
   "source": []
  },
  {
   "cell_type": "code",
   "execution_count": null,
   "id": "4261d272-7cdd-4123-94e5-43b510978299",
   "metadata": {},
   "outputs": [],
   "source": []
  }
 ],
 "metadata": {
  "kernelspec": {
   "display_name": "Python 3",
   "language": "python",
   "name": "python3"
  },
  "language_info": {
   "codemirror_mode": {
    "name": "ipython",
    "version": 3
   },
   "file_extension": ".py",
   "mimetype": "text/x-python",
   "name": "python",
   "nbconvert_exporter": "python",
   "pygments_lexer": "ipython3",
   "version": "3.8.8"
  }
 },
 "nbformat": 4,
 "nbformat_minor": 5
}
