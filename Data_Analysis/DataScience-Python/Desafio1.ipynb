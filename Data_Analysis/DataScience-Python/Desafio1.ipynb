{
 "cells": [
  {
   "cell_type": "code",
   "execution_count": 9,
   "id": "1b95132c-199c-49ca-94b2-4ddfa19daae6",
   "metadata": {},
   "outputs": [
    {
     "name": "stdout",
     "output_type": "stream",
     "text": [
      "a 16\n",
      "c 3\n",
      "d 7\n",
      "e 11\n",
      "i 4\n",
      "m 3\n",
      "n 5\n",
      "o 11\n",
      "q 2\n",
      "r 6\n",
      "s 12\n",
      "t 4\n",
      "u 2\n",
      "v 2\n",
      "z 2\n",
      "Quantidade total de letras da frase : 130 \n",
      "Total de letra que se repetem : 15 \n"
     ]
    }
   ],
   "source": [
    "alfabeto_validacao = \"abcdefghijklmnopqrstuvwxyz\"\n",
    "texto =  \"Um forte indicador de que já há avanços de Democratização de Dados nas organizações é observar quantas pessoas tem acesso a Dados.\"\n",
    "quantidadeTotalLetras = len(texto)\n",
    "quantidadeTotalLetrasRepetidas = 0\n",
    "for letra in alfabeto_validacao:\n",
    "  quantidade = texto.count(letra)\n",
    "  if quantidade > 1:\n",
    "    quantidadeTotalLetrasRepetidas = quantidadeTotalLetrasRepetidas +1\n",
    "    print (letra, quantidade)\n",
    "print(f'Quantidade total de letras da frase : {quantidadeTotalLetras} ')\n",
    "print(f'Total de letra que se repetem : {quantidadeTotalLetrasRepetidas} ')"
   ]
  },
  {
   "cell_type": "code",
   "execution_count": null,
   "id": "40d06980-5f15-4a8e-be52-69f0ec59a771",
   "metadata": {},
   "outputs": [],
   "source": []
  }
 ],
 "metadata": {
  "kernelspec": {
   "display_name": "Python 3",
   "language": "python",
   "name": "python3"
  },
  "language_info": {
   "codemirror_mode": {
    "name": "ipython",
    "version": 3
   },
   "file_extension": ".py",
   "mimetype": "text/x-python",
   "name": "python",
   "nbconvert_exporter": "python",
   "pygments_lexer": "ipython3",
   "version": "3.8.8"
  }
 },
 "nbformat": 4,
 "nbformat_minor": 5
}
