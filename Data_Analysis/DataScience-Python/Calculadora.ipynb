{
 "cells": [
  {
   "cell_type": "code",
   "execution_count": 34,
   "id": "0c50072b-a04e-4845-a6d0-7b377d8d614e",
   "metadata": {},
   "outputs": [
    {
     "name": "stdout",
     "output_type": "stream",
     "text": [
      "Exercício 1 - Calculadora\n"
     ]
    }
   ],
   "source": [
    "print('Exercício 1 - Calculadora')"
   ]
  },
  {
   "cell_type": "code",
   "execution_count": 35,
   "id": "82732b58-6221-441c-a214-38400d9ba00c",
   "metadata": {},
   "outputs": [
    {
     "name": "stdout",
     "output_type": "stream",
     "text": [
      "51\n",
      "-21\n",
      "540\n",
      "0.4166666666666667\n"
     ]
    }
   ],
   "source": [
    "#Classe\n",
    "class Calculadora:\n",
    "\n",
    "#Funções\n",
    "    def __init__(self, a, b):\n",
    "        self.a = a\n",
    "        self.b = b\n",
    "\n",
    "    def somar(self):\n",
    "        return self.a + self.b\n",
    "\n",
    "    def subtrair(self):\n",
    "        return self.a - self.b\n",
    "\n",
    "    def multiplicar(self):\n",
    "        return self.a * self.b\n",
    "\n",
    "    def dividir(self):\n",
    "        return self.a / self.b\n",
    "\n",
    "#Resultados\n",
    "c = Calculadora(15,36)\n",
    "print(c.somar())\n",
    "print(c.subtrair())\n",
    "print(c.multiplicar())\n",
    "print(c.dividir())"
   ]
  },
  {
   "cell_type": "code",
   "execution_count": null,
   "id": "dbb48fc6-a7eb-472f-8e72-2df02ac53661",
   "metadata": {},
   "outputs": [],
   "source": []
  }
 ],
 "metadata": {
  "kernelspec": {
   "display_name": "Python 3",
   "language": "python",
   "name": "python3"
  },
  "language_info": {
   "codemirror_mode": {
    "name": "ipython",
    "version": 3
   },
   "file_extension": ".py",
   "mimetype": "text/x-python",
   "name": "python",
   "nbconvert_exporter": "python",
   "pygments_lexer": "ipython3",
   "version": "3.8.8"
  }
 },
 "nbformat": 4,
 "nbformat_minor": 5
}
