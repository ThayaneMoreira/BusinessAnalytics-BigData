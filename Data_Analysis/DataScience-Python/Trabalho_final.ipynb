{
 "cells": [
  {
   "cell_type": "code",
   "execution_count": 8,
   "id": "142b17a5-3fc2-4a2b-bf6e-3d370db14e62",
   "metadata": {},
   "outputs": [
    {
     "data": {
      "text/html": [
       "<div>\n",
       "<style scoped>\n",
       "    .dataframe tbody tr th:only-of-type {\n",
       "        vertical-align: middle;\n",
       "    }\n",
       "\n",
       "    .dataframe tbody tr th {\n",
       "        vertical-align: top;\n",
       "    }\n",
       "\n",
       "    .dataframe thead th {\n",
       "        text-align: right;\n",
       "    }\n",
       "</style>\n",
       "<table border=\"1\" class=\"dataframe\">\n",
       "  <thead>\n",
       "    <tr style=\"text-align: right;\">\n",
       "      <th></th>\n",
       "      <th>nome</th>\n",
       "      <th>sobrenome</th>\n",
       "      <th>ano_nascimento</th>\n",
       "      <th>sexo</th>\n",
       "      <th>cidade</th>\n",
       "      <th>profissão</th>\n",
       "      <th>experiencia profissional</th>\n",
       "      <th>estado_civil</th>\n",
       "      <th>filhos</th>\n",
       "      <th>lazer_final_de_semana</th>\n",
       "      <th>pratica_esporte</th>\n",
       "      <th>qual_esporte</th>\n",
       "      <th>quanta_vezes_na_semana_pratica_esporte</th>\n",
       "      <th>tem carro</th>\n",
       "      <th>escolaridade</th>\n",
       "    </tr>\n",
       "  </thead>\n",
       "  <tbody>\n",
       "    <tr>\n",
       "      <th>0</th>\n",
       "      <td>Dirceu</td>\n",
       "      <td>Manolo</td>\n",
       "      <td>1985</td>\n",
       "      <td>m</td>\n",
       "      <td>São Vicente</td>\n",
       "      <td>Cientista de Dados</td>\n",
       "      <td>4</td>\n",
       "      <td>Casado</td>\n",
       "      <td>1</td>\n",
       "      <td>estudar, academia, jogar video game,surfar</td>\n",
       "      <td>sim</td>\n",
       "      <td>academia</td>\n",
       "      <td>3.0</td>\n",
       "      <td>sim</td>\n",
       "      <td>Ensino Superior</td>\n",
       "    </tr>\n",
       "    <tr>\n",
       "      <th>1</th>\n",
       "      <td>Maria</td>\n",
       "      <td>Silva</td>\n",
       "      <td>1970</td>\n",
       "      <td>f</td>\n",
       "      <td>Santos</td>\n",
       "      <td>dona de casa</td>\n",
       "      <td>2</td>\n",
       "      <td>Casada</td>\n",
       "      <td>3</td>\n",
       "      <td>ver tv</td>\n",
       "      <td>não</td>\n",
       "      <td>-</td>\n",
       "      <td>0.0</td>\n",
       "      <td>não</td>\n",
       "      <td>Ensino Médio</td>\n",
       "    </tr>\n",
       "    <tr>\n",
       "      <th>2</th>\n",
       "      <td>Adalberto</td>\n",
       "      <td>Martins</td>\n",
       "      <td>1990</td>\n",
       "      <td>m</td>\n",
       "      <td>São Paulo</td>\n",
       "      <td>desempregado</td>\n",
       "      <td>0</td>\n",
       "      <td>Solteiro</td>\n",
       "      <td>1</td>\n",
       "      <td>jogar bola</td>\n",
       "      <td>sim</td>\n",
       "      <td>jogo bola</td>\n",
       "      <td>2.0</td>\n",
       "      <td>sim</td>\n",
       "      <td>Ensino Superior</td>\n",
       "    </tr>\n",
       "  </tbody>\n",
       "</table>\n",
       "</div>"
      ],
      "text/plain": [
       "        nome sobrenome  ano_nascimento sexo       cidade           profissão  \\\n",
       "0     Dirceu    Manolo            1985    m  São Vicente  Cientista de Dados   \n",
       "1      Maria     Silva            1970    f       Santos        dona de casa   \n",
       "2  Adalberto   Martins            1990    m    São Paulo        desempregado   \n",
       "\n",
       "   experiencia profissional estado_civil  filhos  \\\n",
       "0                         4       Casado       1   \n",
       "1                         2       Casada       3   \n",
       "2                         0     Solteiro       1   \n",
       "\n",
       "                        lazer_final_de_semana pratica_esporte qual_esporte  \\\n",
       "0  estudar, academia, jogar video game,surfar             sim     academia   \n",
       "1                                      ver tv             não            -   \n",
       "2                                  jogar bola             sim    jogo bola   \n",
       "\n",
       "   quanta_vezes_na_semana_pratica_esporte tem carro     escolaridade  \n",
       "0                                     3.0       sim  Ensino Superior  \n",
       "1                                     0.0       não     Ensino Médio  \n",
       "2                                     2.0       sim  Ensino Superior  "
      ]
     },
     "execution_count": 8,
     "metadata": {},
     "output_type": "execute_result"
    }
   ],
   "source": [
    "#Importanto bibliotecas\n",
    "import pandas as pd\n",
    "import numpy as np\n",
    "import os\n",
    "import folium\n",
    "from folium.plugins import HeatMap\n",
    "import matplotlib.pyplot as plt\n",
    "\n",
    "\n",
    "%matplotlib inline\n",
    "\n",
    "\n",
    "#Upload dos dados\n",
    "cadastro_df = pd.read_csv('cadastro - cadastro.csv', encoding='utf-8')\n",
    "precos_df = pd.read_csv('preco da gasolina - preco da gasolina.csv', encoding='utf-8')\n",
    "salario_df = pd.read_csv('salario_profissoes - salario_profissoes.csv', encoding='utf-8')\n",
    "brasil_municipios_df = pd.read_csv('brasil_municipios.csv', encoding='utf-8')\n",
    "\n",
    "#Apresentando apenas 3 linhas do dataframe\n",
    "cadastro_df.head(3)"
   ]
  },
  {
   "cell_type": "code",
   "execution_count": 58,
   "id": "604501ca-4478-4f2f-84b7-11144f9bce33",
   "metadata": {},
   "outputs": [
    {
     "data": {
      "text/html": [
       "<div>\n",
       "<style scoped>\n",
       "    .dataframe tbody tr th:only-of-type {\n",
       "        vertical-align: middle;\n",
       "    }\n",
       "\n",
       "    .dataframe tbody tr th {\n",
       "        vertical-align: top;\n",
       "    }\n",
       "\n",
       "    .dataframe thead th {\n",
       "        text-align: right;\n",
       "    }\n",
       "</style>\n",
       "<table border=\"1\" class=\"dataframe\">\n",
       "  <thead>\n",
       "    <tr style=\"text-align: right;\">\n",
       "      <th></th>\n",
       "      <th>Profissões</th>\n",
       "      <th>salario até 3 anos</th>\n",
       "      <th>salaior +3 anos</th>\n",
       "    </tr>\n",
       "  </thead>\n",
       "  <tbody>\n",
       "    <tr>\n",
       "      <th>0</th>\n",
       "      <td>Cientista de Dados</td>\n",
       "      <td>10000</td>\n",
       "      <td>14000</td>\n",
       "    </tr>\n",
       "    <tr>\n",
       "      <th>1</th>\n",
       "      <td>dona de casa</td>\n",
       "      <td>1200</td>\n",
       "      <td>1200</td>\n",
       "    </tr>\n",
       "    <tr>\n",
       "      <th>2</th>\n",
       "      <td>desempregado</td>\n",
       "      <td>0</td>\n",
       "      <td>0</td>\n",
       "    </tr>\n",
       "  </tbody>\n",
       "</table>\n",
       "</div>"
      ],
      "text/plain": [
       "           Profissões  salario até 3 anos  salaior +3 anos\n",
       "0  Cientista de Dados               10000            14000\n",
       "1        dona de casa                1200             1200\n",
       "2        desempregado                   0                0"
      ]
     },
     "execution_count": 58,
     "metadata": {},
     "output_type": "execute_result"
    }
   ],
   "source": [
    "salario_df.head(3)"
   ]
  },
  {
   "cell_type": "code",
   "execution_count": 59,
   "id": "34228f8d-40ab-4d4f-8f4e-da221da49560",
   "metadata": {},
   "outputs": [
    {
     "data": {
      "text/plain": [
       "33.73"
      ]
     },
     "execution_count": 59,
     "metadata": {},
     "output_type": "execute_result"
    }
   ],
   "source": [
    "#Criando coluna com idade a partir do ano de nascimento:\n",
    "\n",
    "cadastro_df['ano_nascimento'] = pd.to_numeric(cadastro_df['ano_nascimento'])\n",
    "\n",
    "idade = 2021 - cadastro_df['ano_nascimento']\n",
    "\n",
    "cadastro_df['idade'] = idade\n",
    "\n",
    "\n",
    "#Qual a idade média das pessoas no cadastro ?\n",
    "\n",
    "round(cadastro_df['idade'].mean(),2)"
   ]
  },
  {
   "cell_type": "code",
   "execution_count": 26,
   "id": "03e62ba8-f108-4bcd-ab89-20c21ee7f6c2",
   "metadata": {},
   "outputs": [
    {
     "data": {
      "text/html": [
       "<div>\n",
       "<style scoped>\n",
       "    .dataframe tbody tr th:only-of-type {\n",
       "        vertical-align: middle;\n",
       "    }\n",
       "\n",
       "    .dataframe tbody tr th {\n",
       "        vertical-align: top;\n",
       "    }\n",
       "\n",
       "    .dataframe thead th {\n",
       "        text-align: right;\n",
       "    }\n",
       "</style>\n",
       "<table border=\"1\" class=\"dataframe\">\n",
       "  <thead>\n",
       "    <tr style=\"text-align: right;\">\n",
       "      <th></th>\n",
       "      <th>nome</th>\n",
       "      <th>sobrenome</th>\n",
       "      <th>ano_nascimento</th>\n",
       "      <th>sexo</th>\n",
       "      <th>cidade</th>\n",
       "      <th>profissão</th>\n",
       "      <th>experiencia profissional</th>\n",
       "      <th>estado_civil</th>\n",
       "      <th>filhos</th>\n",
       "      <th>lazer_final_de_semana</th>\n",
       "      <th>pratica_esporte</th>\n",
       "      <th>qual_esporte</th>\n",
       "      <th>quanta_vezes_na_semana_pratica_esporte</th>\n",
       "      <th>tem carro</th>\n",
       "      <th>escolaridade</th>\n",
       "      <th>idade</th>\n",
       "    </tr>\n",
       "  </thead>\n",
       "  <tbody>\n",
       "    <tr>\n",
       "      <th>0</th>\n",
       "      <td>Dirceu</td>\n",
       "      <td>Manolo</td>\n",
       "      <td>1985</td>\n",
       "      <td>m</td>\n",
       "      <td>São Vicente</td>\n",
       "      <td>Cientista de Dados</td>\n",
       "      <td>4</td>\n",
       "      <td>Casado</td>\n",
       "      <td>1</td>\n",
       "      <td>estudar, academia, jogar video game,surfar</td>\n",
       "      <td>sim</td>\n",
       "      <td>academia</td>\n",
       "      <td>3.0</td>\n",
       "      <td>sim</td>\n",
       "      <td>Ensino Superior</td>\n",
       "      <td>36</td>\n",
       "    </tr>\n",
       "    <tr>\n",
       "      <th>1</th>\n",
       "      <td>Maria</td>\n",
       "      <td>Silva</td>\n",
       "      <td>1970</td>\n",
       "      <td>f</td>\n",
       "      <td>Santos</td>\n",
       "      <td>dona de casa</td>\n",
       "      <td>2</td>\n",
       "      <td>Casada</td>\n",
       "      <td>3</td>\n",
       "      <td>ver tv</td>\n",
       "      <td>não</td>\n",
       "      <td>-</td>\n",
       "      <td>0.0</td>\n",
       "      <td>não</td>\n",
       "      <td>Ensino Médio</td>\n",
       "      <td>51</td>\n",
       "    </tr>\n",
       "    <tr>\n",
       "      <th>2</th>\n",
       "      <td>Adalberto</td>\n",
       "      <td>Martins</td>\n",
       "      <td>1990</td>\n",
       "      <td>m</td>\n",
       "      <td>São Paulo</td>\n",
       "      <td>desempregado</td>\n",
       "      <td>0</td>\n",
       "      <td>Solteiro</td>\n",
       "      <td>1</td>\n",
       "      <td>jogar bola</td>\n",
       "      <td>sim</td>\n",
       "      <td>jogo bola</td>\n",
       "      <td>2.0</td>\n",
       "      <td>sim</td>\n",
       "      <td>Ensino Superior</td>\n",
       "      <td>31</td>\n",
       "    </tr>\n",
       "  </tbody>\n",
       "</table>\n",
       "</div>"
      ],
      "text/plain": [
       "        nome sobrenome  ano_nascimento sexo       cidade           profissão  \\\n",
       "0     Dirceu    Manolo            1985    m  São Vicente  Cientista de Dados   \n",
       "1      Maria     Silva            1970    f       Santos        dona de casa   \n",
       "2  Adalberto   Martins            1990    m    São Paulo        desempregado   \n",
       "\n",
       "   experiencia profissional estado_civil  filhos  \\\n",
       "0                         4       Casado       1   \n",
       "1                         2       Casada       3   \n",
       "2                         0     Solteiro       1   \n",
       "\n",
       "                        lazer_final_de_semana pratica_esporte qual_esporte  \\\n",
       "0  estudar, academia, jogar video game,surfar             sim     academia   \n",
       "1                                      ver tv             não            -   \n",
       "2                                  jogar bola             sim    jogo bola   \n",
       "\n",
       "   quanta_vezes_na_semana_pratica_esporte tem carro     escolaridade  idade  \n",
       "0                                     3.0       sim  Ensino Superior     36  \n",
       "1                                     0.0       não     Ensino Médio     51  \n",
       "2                                     2.0       sim  Ensino Superior     31  "
      ]
     },
     "execution_count": 26,
     "metadata": {},
     "output_type": "execute_result"
    }
   ],
   "source": [
    "cadastro_df.head(3)\n"
   ]
  },
  {
   "cell_type": "code",
   "execution_count": 27,
   "id": "040f9f23-2f6b-4233-956f-81d01b877295",
   "metadata": {},
   "outputs": [
    {
     "data": {
      "text/plain": [
       "sexo\n",
       "m    16\n",
       "dtype: int64"
      ]
     },
     "execution_count": 27,
     "metadata": {},
     "output_type": "execute_result"
    }
   ],
   "source": [
    "#Quantos homens tem no cadastro ?\n",
    "\n",
    "cadastro_homens_df  = cadastro_df[(cadastro_df['sexo'] == 'm')]\n",
    "cadastro_homens_df.groupby(by='sexo').size()"
   ]
  },
  {
   "cell_type": "code",
   "execution_count": 28,
   "id": "4778e559-3f0e-4a06-bb35-84e4b5f63b28",
   "metadata": {},
   "outputs": [
    {
     "data": {
      "text/plain": [
       "sexo\n",
       "f    14\n",
       "dtype: int64"
      ]
     },
     "execution_count": 28,
     "metadata": {},
     "output_type": "execute_result"
    }
   ],
   "source": [
    "#Quantas mulheres tem no cadastro ?\n",
    "\n",
    "cadastro_mulheres_df  = cadastro_df[(cadastro_df['sexo'] == 'f')]\n",
    "cadastro_mulheres_df.groupby(by='sexo').size()"
   ]
  },
  {
   "cell_type": "code",
   "execution_count": 29,
   "id": "228beda3-93ed-4132-8732-f3fb90c054d7",
   "metadata": {},
   "outputs": [
    {
     "name": "stdout",
     "output_type": "stream",
     "text": [
      "A média de idade dos homens é:  32.75  / A média de idade das mulheres é:  34.86\n"
     ]
    }
   ],
   "source": [
    "# Qual a idade média dos homens e das mulheres ?\n",
    "#round(cadastro_df['idade'].mean(),2)\n",
    "\n",
    "idade_media_homens = round(cadastro_homens_df['idade'].mean(),2)\n",
    "idade_media_mulheres = round(cadastro_mulheres_df['idade'].mean(),2)\n",
    "\n",
    "\n",
    "print('A média de idade dos homens é: ', idade_media_homens, ' / A média de idade das mulheres é: ', idade_media_mulheres)"
   ]
  },
  {
   "cell_type": "code",
   "execution_count": 30,
   "id": "c07c2651-9066-4691-be2f-e5c65ac97ae3",
   "metadata": {},
   "outputs": [
    {
     "data": {
      "image/png": "[encoded data removed]",
      "text/plain": [
       "<Figure size 720x432 with 1 Axes>"
      ]
     },
     "metadata": {
      "needs_background": "light"
     },
     "output_type": "display_data"
    }
   ],
   "source": [
    "# Crie um gráfico de barras e mostre a distribuição de escolaridade no cadastro\n",
    "\n",
    "cadastro_df['escolaridade'].value_counts()\n",
    "plt.figure(figsize=(10, 6))\n",
    "cadastro_df['escolaridade'].value_counts().plot(kind='barh',x='escolaridade',y='quantidade', color='green');\n",
    "plt.title('Escolaridade')\n",
    "plt.show()"
   ]
  },
  {
   "cell_type": "code",
   "execution_count": 31,
   "id": "e731bb8b-b238-4688-88a2-c43756871208",
   "metadata": {},
   "outputs": [
    {
     "data": {
      "text/plain": [
       "3486.21"
      ]
     },
     "execution_count": 31,
     "metadata": {},
     "output_type": "execute_result"
    }
   ],
   "source": [
    "# Mostre a Média Salarial do cadastro\n",
    "\n",
    "cadastro_df.rename(columns={'profissão': 'Profissões'}, inplace = True)\n",
    "salario_df.rename(columns={'salaior +3 anos': 'salario_maior_de_3_anos'}, inplace = True)\n",
    "salario_df.rename(columns={'salario até 3 anos': 'salario_ate_3_anos'}, inplace = True)\n",
    "cadastro_compl = pd.merge(cadastro_df, salario_df, on='Profissões')\n",
    "\n",
    "\n",
    "\n",
    "def salario_respectivo(cadastro_compl):\n",
    "    for cad in cadastro_compl['experiencia profissional']:\n",
    "        if(cad <= 3):\n",
    "            cadastro_compl['salario_respectivo'] = cadastro_compl['salario_ate_3_anos']\n",
    "        else:\n",
    "            cadastro_compl['salario_respectivo'] = cadastro_compl['salario_maior_de_3_anos']\n",
    "    return cadastro_compl\n",
    "\n",
    "cadastro_compl = salario_respectivo(cadastro_compl)\n",
    "\n",
    "cadastro_compl.head(3)\n",
    "\n",
    "round(cadastro_compl['salario_respectivo'].mean(),2)"
   ]
  },
  {
   "cell_type": "code",
   "execution_count": 32,
   "id": "184b1a4c-8265-40c4-9a62-d9deec41e6aa",
   "metadata": {},
   "outputs": [
    {
     "name": "stdout",
     "output_type": "stream",
     "text": [
      "     nome Profissões  salario_respectivo\n",
      "9  Mirtes     Médica               12000\n"
     ]
    }
   ],
   "source": [
    "# Quem tem o maior salario?\n",
    "\n",
    "print(cadastro_compl[['nome', 'Profissões','salario_respectivo' ]][cadastro_compl.salario_respectivo == cadastro_compl.salario_respectivo.max()])"
   ]
  },
  {
   "cell_type": "code",
   "execution_count": 33,
   "id": "92503efc-5876-4580-9d7c-9ac708088330",
   "metadata": {},
   "outputs": [
    {
     "name": "stdout",
     "output_type": "stream",
     "text": [
      "       nome Profissões  salario_respectivo\n",
      "10   Camila  estudante                   0\n",
      "11  Gabriel  estudante                   0\n"
     ]
    }
   ],
   "source": [
    "#Tirando desempregado, quem recebe menos ?\n",
    "\n",
    "cadastro_compl = cadastro_compl[cadastro_compl['Profissões'] != \"desempregado\"]\n",
    "#cadastro_compl = cadastro_compl[cadastro_compl['Profissões'] != \"estagiario\"]\n",
    "#cadastro_compl = cadastro_compl[cadastro_compl['Profissões'] != \"estudante\"]\n",
    "\n",
    "print(cadastro_compl[['nome', 'Profissões','salario_respectivo']][cadastro_compl.salario_respectivo == cadastro_compl.salario_respectivo.min()])"
   ]
  },
  {
   "cell_type": "code",
   "execution_count": 34,
   "id": "6413cedd-8719-485f-8ac0-5ac677d51de9",
   "metadata": {},
   "outputs": [
    {
     "data": {
      "text/plain": [
       "lazer_final_de_semana\n",
       "caminhar    1\n",
       "dtype: int64"
      ]
     },
     "execution_count": 34,
     "metadata": {},
     "output_type": "execute_result"
    }
   ],
   "source": [
    "# Quantas pessoas gostam de caminhar no final de semana ?\n",
    "\n",
    "esporte_df = cadastro_compl[(cadastro_compl['lazer_final_de_semana'] == 'caminhar')]\n",
    "esporte_df.groupby(by='lazer_final_de_semana').size()"
   ]
  },
  {
   "cell_type": "code",
   "execution_count": 35,
   "id": "07e2f059-f61d-4970-8d10-0ebc3a1c0f50",
   "metadata": {},
   "outputs": [
    {
     "data": {
      "text/html": [
       "<div>\n",
       "<style scoped>\n",
       "    .dataframe tbody tr th:only-of-type {\n",
       "        vertical-align: middle;\n",
       "    }\n",
       "\n",
       "    .dataframe tbody tr th {\n",
       "        vertical-align: top;\n",
       "    }\n",
       "\n",
       "    .dataframe thead th {\n",
       "        text-align: right;\n",
       "    }\n",
       "</style>\n",
       "<table border=\"1\" class=\"dataframe\">\n",
       "  <thead>\n",
       "    <tr style=\"text-align: right;\">\n",
       "      <th></th>\n",
       "      <th>nome</th>\n",
       "      <th>sobrenome</th>\n",
       "      <th>ano_nascimento</th>\n",
       "      <th>sexo</th>\n",
       "      <th>cidade</th>\n",
       "      <th>Profissões</th>\n",
       "      <th>experiencia profissional</th>\n",
       "      <th>estado_civil</th>\n",
       "      <th>filhos</th>\n",
       "      <th>lazer_final_de_semana</th>\n",
       "      <th>pratica_esporte</th>\n",
       "      <th>qual_esporte</th>\n",
       "      <th>quanta_vezes_na_semana_pratica_esporte</th>\n",
       "      <th>tem carro</th>\n",
       "      <th>escolaridade</th>\n",
       "      <th>idade</th>\n",
       "      <th>salario_ate_3_anos</th>\n",
       "      <th>salario_maior_de_3_anos</th>\n",
       "      <th>salario_respectivo</th>\n",
       "    </tr>\n",
       "  </thead>\n",
       "  <tbody>\n",
       "    <tr>\n",
       "      <th>5</th>\n",
       "      <td>Marta</td>\n",
       "      <td>da Silva</td>\n",
       "      <td>1983</td>\n",
       "      <td>f</td>\n",
       "      <td>São Caetano</td>\n",
       "      <td>Auxiliar de Enfermagem</td>\n",
       "      <td>2</td>\n",
       "      <td>Solteira</td>\n",
       "      <td>0</td>\n",
       "      <td>caminhar</td>\n",
       "      <td>sim</td>\n",
       "      <td>crossfit</td>\n",
       "      <td>4.0</td>\n",
       "      <td>não</td>\n",
       "      <td>Ensimo Tecnico</td>\n",
       "      <td>38</td>\n",
       "      <td>1500</td>\n",
       "      <td>4000</td>\n",
       "      <td>1500</td>\n",
       "    </tr>\n",
       "  </tbody>\n",
       "</table>\n",
       "</div>"
      ],
      "text/plain": [
       "    nome sobrenome  ano_nascimento sexo       cidade              Profissões  \\\n",
       "5  Marta  da Silva            1983    f  São Caetano  Auxiliar de Enfermagem   \n",
       "\n",
       "   experiencia profissional estado_civil  filhos lazer_final_de_semana  \\\n",
       "5                         2     Solteira       0              caminhar   \n",
       "\n",
       "  pratica_esporte qual_esporte  quanta_vezes_na_semana_pratica_esporte  \\\n",
       "5             sim     crossfit                                     4.0   \n",
       "\n",
       "  tem carro    escolaridade  idade  salario_ate_3_anos  \\\n",
       "5       não  Ensimo Tecnico     38                1500   \n",
       "\n",
       "   salario_maior_de_3_anos  salario_respectivo  \n",
       "5                     4000                1500  "
      ]
     },
     "execution_count": 35,
     "metadata": {},
     "output_type": "execute_result"
    }
   ],
   "source": [
    "esporte_df"
   ]
  },
  {
   "cell_type": "code",
   "execution_count": 36,
   "id": "8c4979b7-ec2f-4165-86ed-123fe2c90ff1",
   "metadata": {},
   "outputs": [
    {
     "data": {
      "text/plain": [
       "Text(0.5, 1.0, 'Relação entre escolaridade e prática esporte')"
      ]
     },
     "execution_count": 36,
     "metadata": {},
     "output_type": "execute_result"
    },
    {
     "data": {
      "image/png": "[encoded data removed]",
      "text/plain": [
       "<Figure size 864x432 with 1 Axes>"
      ]
     },
     "metadata": {
      "needs_background": "light"
     },
     "output_type": "display_data"
    }
   ],
   "source": [
    "#Crie um gráfico mostrando a relação entre escolaridade e prática esporte\n",
    "\n",
    "\n",
    "esporte_escolaridade = cadastro_compl.groupby('escolaridade')\n",
    "plt.figure(figsize=(12, 6))\n",
    "esporte_escolaridade.sum()['quanta_vezes_na_semana_pratica_esporte'].plot(kind='line',x='escolaridade',y='quantidade', color='black')\n",
    "plt.title(\"Relação entre escolaridade e prática de esporte\")"
   ]
  },
  {
   "cell_type": "code",
   "execution_count": 36,
   "id": "cf9e6105-765f-4fb0-9950-9fc74570f6a0",
   "metadata": {},
   "outputs": [],
   "source": [
    "#Crie um mapa de calor\n",
    "\n",
    "brasil_municipios_df.rename(columns={'municipio': 'cidade'}, inplace = True)\n",
    "\n",
    "cadastro_with_coordinates = pd.merge(cadastro_df, brasil_municipios_df,  how = 'left', on='cidade')\n",
    "\n",
    "cadastro_with_coordinates.head(25)\n",
    "\n",
    "coordinates_df =  cadastro_with_coordinates.filter(items=['latitude','longitude'])\n",
    "\n",
    "coordinates_df.dropna(subset = [\"latitude\",'longitude'], inplace=True)\n",
    "\n",
    "map_calor = folium.Map([48., 5.], tiles='stamentoner', zoom_start=6)\n",
    "\n",
    "HeatMap(coordinates_df).add_to(map_calor)\n",
    "\n",
    "map_calor.save(os.path.join('Mapas', 'MapaDeCalor.html')) "
   ]
  },
  {
   "cell_type": "code",
   "execution_count": 32,
   "id": "374033c7-f974-4932-8f86-7d3ad1db5569",
   "metadata": {},
   "outputs": [
    {
     "data": {
      "text/plain": [
       "Text(0.5, 1.0, 'Distribuição por estado')"
      ]
     },
     "execution_count": 32,
     "metadata": {},
     "output_type": "execute_result"
    },
    {
     "data": {
      "image/png": "[encoded data removed]",
      "text/plain": [
       "<Figure size 432x288 with 1 Axes>"
      ]
     },
     "metadata": {
      "needs_background": "light"
     },
     "output_type": "display_data"
    }
   ],
   "source": [
    "#Mostre de forma gráfica a distribuição de estados do cadastro\n",
    "\n",
    "estados = cadastro_df.groupby(['cidade']).size().reset_index(name='ocorrências')\n",
    "\n",
    "estados.plot(kind='bar',x='cidade',y='ocorrências', color='orange')\n",
    "\n",
    "plt.title(\"Distribuição por estado\")\n",
    "\n"
   ]
  },
  {
   "cell_type": "code",
   "execution_count": null,
   "id": "d2aa4ee5-4bf5-4330-86be-e83ae27466d3",
   "metadata": {},
   "outputs": [],
   "source": []
  },
  {
   "cell_type": "code",
   "execution_count": null,
   "id": "c29dd042-69b4-40d0-9800-3c3f7f003071",
   "metadata": {},
   "outputs": [],
   "source": []
  }
 ],
 "metadata": {
  "kernelspec": {
   "display_name": "Python 3",
   "language": "python",
   "name": "python3"
  },
  "language_info": {
   "codemirror_mode": {
    "name": "ipython",
    "version": 3
   },
   "file_extension": ".py",
   "mimetype": "text/x-python",
   "name": "python",
   "nbconvert_exporter": "python",
   "pygments_lexer": "ipython3",
   "version": "3.8.8"
  }
 },
 "nbformat": 4,
 "nbformat_minor": 5
}
